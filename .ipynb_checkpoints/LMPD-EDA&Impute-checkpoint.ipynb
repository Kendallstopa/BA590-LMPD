{
 "cells": [
  {
   "cell_type": "markdown",
   "metadata": {},
   "source": [
    "# Traffic Stop Activity Result: Citation vs. Warning \n",
    "\n",
    "#### BA 590 Capstone: Business Analytics Applications - Proposal\n",
    "#### Proposed By: Kendall Stopa\n",
    "1.\tProject Background/Motivation\n",
    "    - Millions of Americans are stopped each year due to traffic violations. There are many reasons as to why one would be pulled over such as speeding, using a cellphone, not wearing a seatbelt, etc. What I want to know is what dictates the end result of a traffic stop? \n",
    "\n",
    "2.\tProblem Statement/Statement of Work\n",
    "    - What features are most strongly associated with an activity result of a citation or a warning?  \n",
    "\n",
    "3.\t Preliminary Results/Exploratory Data Analysis (see figures on page 2-3)\n",
    "    - The dataset that I will be using is information available in the Louisville Metro Police Department Vehicle Stops Database for 2015 – 2018, obtained from Data.gov. There are 111,582 rows and 18 columns in this dataset. \n",
    "\n",
    "4.\tPlanning Timeline with Milestones (start and end dates) for each phase of the project\n",
    "    - EDA and Preprocessing &nbsp;&nbsp;&nbsp;&nbsp;&nbsp;&nbsp;&nbsp;&nbsp;&nbsp;&nbsp;&nbsp; Start: 5/18 – End: 5/21\n",
    "    - Modeling &nbsp;&nbsp;&nbsp;&nbsp;&nbsp;&nbsp;&nbsp;&nbsp;&nbsp;&nbsp;&nbsp;&nbsp;&nbsp;&nbsp;&nbsp;&nbsp;&nbsp;&nbsp;&nbsp;&nbsp;&nbsp;&nbsp;&nbsp;&nbsp;&nbsp;&nbsp;&nbsp;&nbsp;&nbsp;&nbsp;&nbsp;&nbsp;&nbsp;&nbsp; Start: 5/22 – End: 6/01\n",
    "    - Geo coding &nbsp;&nbsp;&nbsp;&nbsp;&nbsp;&nbsp;&nbsp;&nbsp;&nbsp;&nbsp;&nbsp;&nbsp;&nbsp;&nbsp;&nbsp;&nbsp;&nbsp;&nbsp;&nbsp;&nbsp;&nbsp;&nbsp;&nbsp;&nbsp;&nbsp;&nbsp;&nbsp;&nbsp;&nbsp;&nbsp; Start: 6/03 – End: 6/15\n",
    "    - Concluding Project &nbsp;&nbsp;&nbsp;&nbsp;&nbsp;&nbsp;&nbsp;&nbsp;&nbsp;&nbsp;&nbsp;&nbsp;&nbsp;&nbsp;&nbsp;&nbsp;&nbsp;&nbsp; Start: 6/17 – End: 6/23\n",
    "\n",
    "5.\tSummary of expected results\n",
    "    - The expected result of this analytical project is to build multiple classification models commonly used machine learning algorithms to predict the activity result one would receive during a traffic stop and determine the most accurate predictive model to use for this data. To see which features of a traffic stop have the largest impact on predicting the activity result of a traffic stop I will be using feature selection. I will also be geocoding the location of each traffic stop to explore this data spatially and create a visualization where the activity result was given. \n",
    "\n",
    "\n",
    "6.\t Signoff from your advisor and your subject matter expert: \n",
    "    - Dr. Christopher Huntly\n",
    "    - Mike Garvey (Alumni Class of ’89, 20 years Rockland County Police Department)\n",
    "\n",
    "\n"
   ]
  },
  {
   "cell_type": "code",
   "execution_count": 1,
   "metadata": {},
   "outputs": [],
   "source": [
    "import numpy as np \n",
    "import pandas as pd\n",
    "import matplotlib.pyplot as plt\n",
    "%matplotlib inline\n",
    "plt.style.use('ggplot')"
   ]
  },
  {
   "cell_type": "code",
   "execution_count": 2,
   "metadata": {},
   "outputs": [],
   "source": [
    "#importing packages we know we will need upfront\n",
    "import seaborn as sns\n",
    "\n",
    "from scipy.stats import iqr\n",
    "\n",
    "from sklearn import preprocessing\n",
    "from sklearn.metrics import roc_auc_score\n",
    "from sklearn.metrics import f1_score"
   ]
  },
  {
   "cell_type": "code",
   "execution_count": 3,
   "metadata": {},
   "outputs": [
    {
     "data": {
      "text/html": [
       "<div>\n",
       "<style scoped>\n",
       "    .dataframe tbody tr th:only-of-type {\n",
       "        vertical-align: middle;\n",
       "    }\n",
       "\n",
       "    .dataframe tbody tr th {\n",
       "        vertical-align: top;\n",
       "    }\n",
       "\n",
       "    .dataframe thead th {\n",
       "        text-align: right;\n",
       "    }\n",
       "</style>\n",
       "<table border=\"1\" class=\"dataframe\">\n",
       "  <thead>\n",
       "    <tr style=\"text-align: right;\">\n",
       "      <th></th>\n",
       "      <th>ID</th>\n",
       "      <th>TYPE_OF_STOP</th>\n",
       "      <th>CITATION_CONTROL_NUMBER</th>\n",
       "      <th>ACTIVITY RESULTS</th>\n",
       "      <th>OFFICER_GENDER</th>\n",
       "      <th>OFFICER_RACE</th>\n",
       "      <th>OFFICER_AGE_RANGE</th>\n",
       "      <th>ACTIVITY_DATE</th>\n",
       "      <th>ACTIVITY_TIME</th>\n",
       "      <th>ACTIVITY_LOCATION</th>\n",
       "      <th>ACTIVITY_DIVISION</th>\n",
       "      <th>ACTIVITY_BEAT</th>\n",
       "      <th>DRIVER_GENDER</th>\n",
       "      <th>DRIVER_RACE</th>\n",
       "      <th>DRIVER_AGE_RANGE</th>\n",
       "      <th>NUMBER OF PASSENGERS</th>\n",
       "      <th>WAS_VEHCILE_SEARCHED</th>\n",
       "      <th>REASON_FOR_SEARCH</th>\n",
       "    </tr>\n",
       "  </thead>\n",
       "  <tbody>\n",
       "    <tr>\n",
       "      <th>0</th>\n",
       "      <td>1</td>\n",
       "      <td>NaN</td>\n",
       "      <td>NaN</td>\n",
       "      <td>WARNING</td>\n",
       "      <td>NaN</td>\n",
       "      <td>NaN</td>\n",
       "      <td>NaN</td>\n",
       "      <td>2015-01-24</td>\n",
       "      <td>NaN</td>\n",
       "      <td>NaN</td>\n",
       "      <td>NaN</td>\n",
       "      <td>NaN</td>\n",
       "      <td>NaN</td>\n",
       "      <td>NaN</td>\n",
       "      <td>NaN</td>\n",
       "      <td>0</td>\n",
       "      <td>NaN</td>\n",
       "      <td>NaN</td>\n",
       "    </tr>\n",
       "    <tr>\n",
       "      <th>1</th>\n",
       "      <td>2</td>\n",
       "      <td>NaN</td>\n",
       "      <td>NaN</td>\n",
       "      <td>WARNING</td>\n",
       "      <td>NaN</td>\n",
       "      <td>NaN</td>\n",
       "      <td>NaN</td>\n",
       "      <td>2015-01-30</td>\n",
       "      <td>NaN</td>\n",
       "      <td>NaN</td>\n",
       "      <td>NaN</td>\n",
       "      <td>NaN</td>\n",
       "      <td>NaN</td>\n",
       "      <td>NaN</td>\n",
       "      <td>NaN</td>\n",
       "      <td>0</td>\n",
       "      <td>NaN</td>\n",
       "      <td>NaN</td>\n",
       "    </tr>\n",
       "    <tr>\n",
       "      <th>2</th>\n",
       "      <td>3</td>\n",
       "      <td>NaN</td>\n",
       "      <td>NaN</td>\n",
       "      <td>WARNING</td>\n",
       "      <td>NaN</td>\n",
       "      <td>NaN</td>\n",
       "      <td>NaN</td>\n",
       "      <td>2016-09-20</td>\n",
       "      <td>NaN</td>\n",
       "      <td>NaN</td>\n",
       "      <td>NaN</td>\n",
       "      <td>NaN</td>\n",
       "      <td>NaN</td>\n",
       "      <td>NaN</td>\n",
       "      <td>NaN</td>\n",
       "      <td>0</td>\n",
       "      <td>NaN</td>\n",
       "      <td>NaN</td>\n",
       "    </tr>\n",
       "    <tr>\n",
       "      <th>3</th>\n",
       "      <td>4</td>\n",
       "      <td>NaN</td>\n",
       "      <td>NaN</td>\n",
       "      <td>WARNING</td>\n",
       "      <td>F</td>\n",
       "      <td>WHITE</td>\n",
       "      <td>21 - 30</td>\n",
       "      <td>2016-01-22</td>\n",
       "      <td>14:42:00</td>\n",
       "      <td>SHAWNEE PARK</td>\n",
       "      <td>2ND DIVISION</td>\n",
       "      <td>BEAT 1</td>\n",
       "      <td>M</td>\n",
       "      <td>BLACK</td>\n",
       "      <td>31 - 40</td>\n",
       "      <td>3</td>\n",
       "      <td>NO</td>\n",
       "      <td>NaN</td>\n",
       "    </tr>\n",
       "    <tr>\n",
       "      <th>4</th>\n",
       "      <td>5</td>\n",
       "      <td>NaN</td>\n",
       "      <td>NaN</td>\n",
       "      <td>WARNING</td>\n",
       "      <td>F</td>\n",
       "      <td>WHITE</td>\n",
       "      <td>21 - 30</td>\n",
       "      <td>2015-09-14</td>\n",
       "      <td>21:10:00</td>\n",
       "      <td>RIVERPARK/34TH</td>\n",
       "      <td>2ND DIVISION</td>\n",
       "      <td>BEAT 1</td>\n",
       "      <td>M</td>\n",
       "      <td>BLACK</td>\n",
       "      <td>20 - 25</td>\n",
       "      <td>0</td>\n",
       "      <td>YES</td>\n",
       "      <td>PROBABLE CAUSE</td>\n",
       "    </tr>\n",
       "  </tbody>\n",
       "</table>\n",
       "</div>"
      ],
      "text/plain": [
       "   ID TYPE_OF_STOP CITATION_CONTROL_NUMBER ACTIVITY RESULTS OFFICER_GENDER  \\\n",
       "0   1          NaN                     NaN          WARNING            NaN   \n",
       "1   2          NaN                     NaN          WARNING            NaN   \n",
       "2   3          NaN                     NaN          WARNING            NaN   \n",
       "3   4          NaN                     NaN          WARNING              F   \n",
       "4   5          NaN                     NaN          WARNING              F   \n",
       "\n",
       "  OFFICER_RACE OFFICER_AGE_RANGE ACTIVITY_DATE ACTIVITY_TIME  \\\n",
       "0          NaN               NaN    2015-01-24           NaN   \n",
       "1          NaN               NaN    2015-01-30           NaN   \n",
       "2          NaN               NaN    2016-09-20           NaN   \n",
       "3        WHITE           21 - 30    2016-01-22      14:42:00   \n",
       "4        WHITE           21 - 30    2015-09-14      21:10:00   \n",
       "\n",
       "  ACTIVITY_LOCATION ACTIVITY_DIVISION ACTIVITY_BEAT DRIVER_GENDER DRIVER_RACE  \\\n",
       "0               NaN               NaN           NaN           NaN         NaN   \n",
       "1               NaN               NaN           NaN           NaN         NaN   \n",
       "2               NaN               NaN           NaN           NaN         NaN   \n",
       "3      SHAWNEE PARK      2ND DIVISION        BEAT 1             M       BLACK   \n",
       "4    RIVERPARK/34TH      2ND DIVISION        BEAT 1             M       BLACK   \n",
       "\n",
       "  DRIVER_AGE_RANGE  NUMBER OF PASSENGERS WAS_VEHCILE_SEARCHED  \\\n",
       "0              NaN                     0                  NaN   \n",
       "1              NaN                     0                  NaN   \n",
       "2              NaN                     0                  NaN   \n",
       "3          31 - 40                     3                   NO   \n",
       "4          20 - 25                     0                  YES   \n",
       "\n",
       "  REASON_FOR_SEARCH  \n",
       "0               NaN  \n",
       "1               NaN  \n",
       "2               NaN  \n",
       "3               NaN  \n",
       "4    PROBABLE CAUSE  "
      ]
     },
     "execution_count": 3,
     "metadata": {},
     "output_type": "execute_result"
    }
   ],
   "source": [
    "# Uploading imputed data to df from CSV WorkingDataFrame\n",
    "df = pd.read_csv('BA590-LMPD/LMPDStopsDatFrame.csv', index_col=0)\n",
    "df.head()"
   ]
  },
  {
   "cell_type": "markdown",
   "metadata": {},
   "source": [
    "# EDA #"
   ]
  },
  {
   "cell_type": "code",
   "execution_count": 4,
   "metadata": {},
   "outputs": [
    {
     "data": {
      "text/plain": [
       "(111582, 18)"
      ]
     },
     "execution_count": 4,
     "metadata": {},
     "output_type": "execute_result"
    }
   ],
   "source": [
    "df.shape"
   ]
  },
  {
   "cell_type": "code",
   "execution_count": 5,
   "metadata": {},
   "outputs": [
    {
     "name": "stdout",
     "output_type": "stream",
     "text": [
      "<class 'pandas.core.frame.DataFrame'>\n",
      "Int64Index: 111582 entries, 0 to 111581\n",
      "Data columns (total 18 columns):\n",
      "ID                         111582 non-null int64\n",
      "TYPE_OF_STOP               111455 non-null object\n",
      "CITATION_CONTROL_NUMBER    94158 non-null object\n",
      "ACTIVITY RESULTS           111582 non-null object\n",
      "OFFICER_GENDER             111426 non-null object\n",
      "OFFICER_RACE               111426 non-null object\n",
      "OFFICER_AGE_RANGE          109086 non-null object\n",
      "ACTIVITY_DATE              111582 non-null object\n",
      "ACTIVITY_TIME              111548 non-null object\n",
      "ACTIVITY_LOCATION          111443 non-null object\n",
      "ACTIVITY_DIVISION          111189 non-null object\n",
      "ACTIVITY_BEAT              111163 non-null object\n",
      "DRIVER_GENDER              111546 non-null object\n",
      "DRIVER_RACE                111550 non-null object\n",
      "DRIVER_AGE_RANGE           111554 non-null object\n",
      "NUMBER OF PASSENGERS       111582 non-null int64\n",
      "WAS_VEHCILE_SEARCHED       111579 non-null object\n",
      "REASON_FOR_SEARCH          6922 non-null object\n",
      "dtypes: int64(2), object(16)\n",
      "memory usage: 16.2+ MB\n"
     ]
    }
   ],
   "source": [
    "df.info()"
   ]
  },
  {
   "cell_type": "code",
   "execution_count": 6,
   "metadata": {},
   "outputs": [
    {
     "data": {
      "text/plain": [
       "ID                              0\n",
       "TYPE_OF_STOP                  127\n",
       "CITATION_CONTROL_NUMBER     17424\n",
       "ACTIVITY RESULTS                0\n",
       "OFFICER_GENDER                156\n",
       "OFFICER_RACE                  156\n",
       "OFFICER_AGE_RANGE            2496\n",
       "ACTIVITY_DATE                   0\n",
       "ACTIVITY_TIME                  34\n",
       "ACTIVITY_LOCATION             139\n",
       "ACTIVITY_DIVISION             393\n",
       "ACTIVITY_BEAT                 419\n",
       "DRIVER_GENDER                  36\n",
       "DRIVER_RACE                    32\n",
       "DRIVER_AGE_RANGE               28\n",
       "NUMBER OF PASSENGERS            0\n",
       "WAS_VEHCILE_SEARCHED            3\n",
       "REASON_FOR_SEARCH          104660\n",
       "dtype: int64"
      ]
     },
     "execution_count": 6,
     "metadata": {},
     "output_type": "execute_result"
    }
   ],
   "source": [
    "df.isnull().sum()"
   ]
  },
  {
   "cell_type": "code",
   "execution_count": 8,
   "metadata": {},
   "outputs": [
    {
     "data": {
      "text/plain": [
       "<matplotlib.axes._subplots.AxesSubplot at 0x7f662d425f60>"
      ]
     },
     "execution_count": 8,
     "metadata": {},
     "output_type": "execute_result"
    },
    {
     "data": {
      "image/png": "[encoded data removed]",
      "text/plain": [
       "<Figure size 432x288 with 1 Axes>"
      ]
     },
     "metadata": {
      "needs_background": "light"
     },
     "output_type": "display_data"
    }
   ],
   "source": [
    "df['ACTIVITY RESULTS'].value_counts().plot.bar(title=\"Freq dist of Activity Results\")"
   ]
  },
  {
   "cell_type": "code",
   "execution_count": 9,
   "metadata": {},
   "outputs": [
    {
     "data": {
      "text/plain": [
       "<matplotlib.axes._subplots.AxesSubplot at 0x7f662d3c7b00>"
      ]
     },
     "execution_count": 9,
     "metadata": {},
     "output_type": "execute_result"
    },
    {
     "data": {
      "image/png": "[encoded data removed]",
      "text/plain": [
       "<Figure size 432x288 with 1 Axes>"
      ]
     },
     "metadata": {
      "needs_background": "light"
     },
     "output_type": "display_data"
    }
   ],
   "source": [
    "df['OFFICER_GENDER'].value_counts().plot.bar(title=\"Freq dist of Officer Gender\")"
   ]
  },
  {
   "cell_type": "code",
   "execution_count": 10,
   "metadata": {},
   "outputs": [
    {
     "data": {
      "text/plain": [
       "<matplotlib.axes._subplots.AxesSubplot at 0x7f662d2e0b00>"
      ]
     },
     "execution_count": 10,
     "metadata": {},
     "output_type": "execute_result"
    },
    {
     "data": {
      "image/png": "[encoded data removed]",
      "text/plain": [
       "<Figure size 432x288 with 1 Axes>"
      ]
     },
     "metadata": {
      "needs_background": "light"
     },
     "output_type": "display_data"
    }
   ],
   "source": [
    "df['DRIVER_GENDER'].value_counts().plot.bar(title=\"Freq dist of Driver Gender\")"
   ]
  },
  {
   "cell_type": "code",
   "execution_count": 11,
   "metadata": {},
   "outputs": [
    {
     "data": {
      "text/plain": [
       "<matplotlib.axes._subplots.AxesSubplot at 0x7f662d2d4630>"
      ]
     },
     "execution_count": 11,
     "metadata": {},
     "output_type": "execute_result"
    },
    {
     "data": {
      "image/png": "[encoded data removed]",
      "text/plain": [
       "<Figure size 432x288 with 1 Axes>"
      ]
     },
     "metadata": {
      "needs_background": "light"
     },
     "output_type": "display_data"
    }
   ],
   "source": [
    "df['OFFICER_AGE_RANGE'].value_counts().plot.bar(title=\"Freq dist of Officer Age Range \")"
   ]
  },
  {
   "cell_type": "code",
   "execution_count": 12,
   "metadata": {},
   "outputs": [
    {
     "data": {
      "text/plain": [
       "<matplotlib.axes._subplots.AxesSubplot at 0x7f662d2533c8>"
      ]
     },
     "execution_count": 12,
     "metadata": {},
     "output_type": "execute_result"
    },
    {
     "data": {
      "image/png": "[encoded data removed]",
      "text/plain": [
       "<Figure size 432x288 with 1 Axes>"
      ]
     },
     "metadata": {
      "needs_background": "light"
     },
     "output_type": "display_data"
    }
   ],
   "source": [
    "df['DRIVER_AGE_RANGE'].value_counts().plot.bar(title=\"Freq dist of Officer Driver Range \")"
   ]
  },
  {
   "cell_type": "code",
   "execution_count": 13,
   "metadata": {},
   "outputs": [
    {
     "data": {
      "text/plain": [
       "Text(0.5, 1.0, 'Officer Age versus Activity Result')"
      ]
     },
     "execution_count": 13,
     "metadata": {},
     "output_type": "execute_result"
    },
    {
     "data": {
      "image/png": "[encoded data removed]",
      "text/plain": [
       "<Figure size 432x288 with 1 Axes>"
      ]
     },
     "metadata": {
      "needs_background": "light"
     },
     "output_type": "display_data"
    }
   ],
   "source": [
    "test7 = df.groupby(['OFFICER_AGE_RANGE', 'ACTIVITY RESULTS'])['DRIVER_AGE_RANGE'].count().unstack('ACTIVITY RESULTS').fillna(0)\n",
    "test7.plot(kind='bar', stacked=True)\n",
    "plt.xticks(rotation='horizontal')\n",
    "plt.legend()\n",
    "plt.title('Officer Age versus Activity Result')"
   ]
  },
  {
   "cell_type": "code",
   "execution_count": 14,
   "metadata": {},
   "outputs": [
    {
     "data": {
      "text/plain": [
       "Text(0.5, 1.0, 'Driver Age versus Activity Result')"
      ]
     },
     "execution_count": 14,
     "metadata": {},
     "output_type": "execute_result"
    },
    {
     "data": {
      "image/png": "[encoded data removed]",
      "text/plain": [
       "<Figure size 432x288 with 1 Axes>"
      ]
     },
     "metadata": {
      "needs_background": "light"
     },
     "output_type": "display_data"
    }
   ],
   "source": [
    "test7 = df.groupby(['DRIVER_AGE_RANGE', 'ACTIVITY RESULTS'])['DRIVER_AGE_RANGE'].count().unstack('ACTIVITY RESULTS').fillna(0)\n",
    "test7.plot(kind='bar', stacked=True)\n",
    "plt.xticks(rotation='horizontal')\n",
    "plt.legend()\n",
    "plt.title('Driver Age versus Activity Result')"
   ]
  },
  {
   "cell_type": "code",
   "execution_count": 15,
   "metadata": {},
   "outputs": [
    {
     "data": {
      "text/plain": [
       "Text(0.5, 1.0, 'Odor versus Class')"
      ]
     },
     "execution_count": 15,
     "metadata": {},
     "output_type": "execute_result"
    },
    {
     "data": {
      "image/png": "[encoded data removed]",
      "text/plain": [
       "<Figure size 432x288 with 1 Axes>"
      ]
     },
     "metadata": {
      "needs_background": "light"
     },
     "output_type": "display_data"
    }
   ],
   "source": [
    "test7 = df.groupby(['DRIVER_GENDER', 'ACTIVITY RESULTS'])['DRIVER_GENDER'].count().unstack('ACTIVITY RESULTS').fillna(0)\n",
    "test7.plot(kind='bar', stacked=True)\n",
    "plt.xticks(rotation='horizontal')\n",
    "plt.legend()\n",
    "plt.title('Odor versus Class')"
   ]
  },
  {
   "cell_type": "markdown",
   "metadata": {},
   "source": [
    "# Data Imputation & Cleaning #"
   ]
  },
  {
   "cell_type": "code",
   "execution_count": 17,
   "metadata": {},
   "outputs": [
    {
     "data": {
      "text/plain": [
       "ID                         0\n",
       "TYPE_OF_STOP               0\n",
       "CITATION_CONTROL_NUMBER    0\n",
       "ACTIVITY RESULTS           0\n",
       "OFFICER_GENDER             0\n",
       "OFFICER_RACE               0\n",
       "OFFICER_AGE_RANGE          0\n",
       "ACTIVITY_DATE              0\n",
       "ACTIVITY_TIME              0\n",
       "ACTIVITY_LOCATION          0\n",
       "ACTIVITY_DIVISION          0\n",
       "ACTIVITY_BEAT              0\n",
       "DRIVER_GENDER              0\n",
       "DRIVER_RACE                0\n",
       "DRIVER_AGE_RANGE           0\n",
       "NUMBER OF PASSENGERS       0\n",
       "WAS_VEHCILE_SEARCHED       0\n",
       "REASON_FOR_SEARCH          0\n",
       "dtype: int64"
      ]
     },
     "execution_count": 17,
     "metadata": {},
     "output_type": "execute_result"
    }
   ],
   "source": [
    "#fill missing values for each column using its own most frequent value\n",
    "df = df.fillna(df.mode().iloc[0])\n",
    "df.isnull().sum()"
   ]
  },
  {
   "cell_type": "code",
   "execution_count": 18,
   "metadata": {},
   "outputs": [
    {
     "data": {
      "text/html": [
       "<div>\n",
       "<style scoped>\n",
       "    .dataframe tbody tr th:only-of-type {\n",
       "        vertical-align: middle;\n",
       "    }\n",
       "\n",
       "    .dataframe tbody tr th {\n",
       "        vertical-align: top;\n",
       "    }\n",
       "\n",
       "    .dataframe thead th {\n",
       "        text-align: right;\n",
       "    }\n",
       "</style>\n",
       "<table border=\"1\" class=\"dataframe\">\n",
       "  <thead>\n",
       "    <tr style=\"text-align: right;\">\n",
       "      <th></th>\n",
       "      <th>ID</th>\n",
       "      <th>TYPE_OF_STOP</th>\n",
       "      <th>CITATION_CONTROL_NUMBER</th>\n",
       "      <th>ACTIVITY RESULTS</th>\n",
       "      <th>OFFICER_GENDER</th>\n",
       "      <th>OFFICER_RACE</th>\n",
       "      <th>OFFICER_AGE_RANGE</th>\n",
       "      <th>ACTIVITY_DATE</th>\n",
       "      <th>ACTIVITY_TIME</th>\n",
       "      <th>ACTIVITY_LOCATION</th>\n",
       "      <th>ACTIVITY_DIVISION</th>\n",
       "      <th>ACTIVITY_BEAT</th>\n",
       "      <th>DRIVER_GENDER</th>\n",
       "      <th>DRIVER_RACE</th>\n",
       "      <th>DRIVER_AGE_RANGE</th>\n",
       "      <th>NUMBER OF PASSENGERS</th>\n",
       "      <th>WAS_VEHCILE_SEARCHED</th>\n",
       "      <th>REASON_FOR_SEARCH</th>\n",
       "    </tr>\n",
       "  </thead>\n",
       "  <tbody>\n",
       "    <tr>\n",
       "      <th>0</th>\n",
       "      <td>1</td>\n",
       "      <td>TRAFFIC VIOLATION</td>\n",
       "      <td>0</td>\n",
       "      <td>WARNING</td>\n",
       "      <td>M</td>\n",
       "      <td>WHITE</td>\n",
       "      <td>40 - 50</td>\n",
       "      <td>2015-01-24</td>\n",
       "      <td>22:00:00</td>\n",
       "      <td>DIXIE HWY                                     ...</td>\n",
       "      <td>6TH DIVISION</td>\n",
       "      <td>BEAT 2</td>\n",
       "      <td>M</td>\n",
       "      <td>WHITE</td>\n",
       "      <td>31 - 40</td>\n",
       "      <td>0</td>\n",
       "      <td>NO</td>\n",
       "      <td>CONSENT</td>\n",
       "    </tr>\n",
       "    <tr>\n",
       "      <th>1</th>\n",
       "      <td>2</td>\n",
       "      <td>TRAFFIC VIOLATION</td>\n",
       "      <td>0</td>\n",
       "      <td>WARNING</td>\n",
       "      <td>M</td>\n",
       "      <td>WHITE</td>\n",
       "      <td>40 - 50</td>\n",
       "      <td>2015-01-30</td>\n",
       "      <td>22:00:00</td>\n",
       "      <td>DIXIE HWY                                     ...</td>\n",
       "      <td>6TH DIVISION</td>\n",
       "      <td>BEAT 2</td>\n",
       "      <td>M</td>\n",
       "      <td>WHITE</td>\n",
       "      <td>31 - 40</td>\n",
       "      <td>0</td>\n",
       "      <td>NO</td>\n",
       "      <td>CONSENT</td>\n",
       "    </tr>\n",
       "    <tr>\n",
       "      <th>2</th>\n",
       "      <td>3</td>\n",
       "      <td>TRAFFIC VIOLATION</td>\n",
       "      <td>0</td>\n",
       "      <td>WARNING</td>\n",
       "      <td>M</td>\n",
       "      <td>WHITE</td>\n",
       "      <td>40 - 50</td>\n",
       "      <td>2016-09-20</td>\n",
       "      <td>22:00:00</td>\n",
       "      <td>DIXIE HWY                                     ...</td>\n",
       "      <td>6TH DIVISION</td>\n",
       "      <td>BEAT 2</td>\n",
       "      <td>M</td>\n",
       "      <td>WHITE</td>\n",
       "      <td>31 - 40</td>\n",
       "      <td>0</td>\n",
       "      <td>NO</td>\n",
       "      <td>CONSENT</td>\n",
       "    </tr>\n",
       "    <tr>\n",
       "      <th>3</th>\n",
       "      <td>4</td>\n",
       "      <td>TRAFFIC VIOLATION</td>\n",
       "      <td>0</td>\n",
       "      <td>WARNING</td>\n",
       "      <td>F</td>\n",
       "      <td>WHITE</td>\n",
       "      <td>21 - 30</td>\n",
       "      <td>2016-01-22</td>\n",
       "      <td>14:42:00</td>\n",
       "      <td>SHAWNEE PARK</td>\n",
       "      <td>2ND DIVISION</td>\n",
       "      <td>BEAT 1</td>\n",
       "      <td>M</td>\n",
       "      <td>BLACK</td>\n",
       "      <td>31 - 40</td>\n",
       "      <td>3</td>\n",
       "      <td>NO</td>\n",
       "      <td>CONSENT</td>\n",
       "    </tr>\n",
       "    <tr>\n",
       "      <th>4</th>\n",
       "      <td>5</td>\n",
       "      <td>TRAFFIC VIOLATION</td>\n",
       "      <td>0</td>\n",
       "      <td>WARNING</td>\n",
       "      <td>F</td>\n",
       "      <td>WHITE</td>\n",
       "      <td>21 - 30</td>\n",
       "      <td>2015-09-14</td>\n",
       "      <td>21:10:00</td>\n",
       "      <td>RIVERPARK/34TH</td>\n",
       "      <td>2ND DIVISION</td>\n",
       "      <td>BEAT 1</td>\n",
       "      <td>M</td>\n",
       "      <td>BLACK</td>\n",
       "      <td>20 - 25</td>\n",
       "      <td>0</td>\n",
       "      <td>YES</td>\n",
       "      <td>PROBABLE CAUSE</td>\n",
       "    </tr>\n",
       "  </tbody>\n",
       "</table>\n",
       "</div>"
      ],
      "text/plain": [
       "   ID       TYPE_OF_STOP CITATION_CONTROL_NUMBER ACTIVITY RESULTS  \\\n",
       "0   1  TRAFFIC VIOLATION                       0          WARNING   \n",
       "1   2  TRAFFIC VIOLATION                       0          WARNING   \n",
       "2   3  TRAFFIC VIOLATION                       0          WARNING   \n",
       "3   4  TRAFFIC VIOLATION                       0          WARNING   \n",
       "4   5  TRAFFIC VIOLATION                       0          WARNING   \n",
       "\n",
       "  OFFICER_GENDER OFFICER_RACE OFFICER_AGE_RANGE ACTIVITY_DATE ACTIVITY_TIME  \\\n",
       "0              M        WHITE           40 - 50    2015-01-24      22:00:00   \n",
       "1              M        WHITE           40 - 50    2015-01-30      22:00:00   \n",
       "2              M        WHITE           40 - 50    2016-09-20      22:00:00   \n",
       "3              F        WHITE           21 - 30    2016-01-22      14:42:00   \n",
       "4              F        WHITE           21 - 30    2015-09-14      21:10:00   \n",
       "\n",
       "                                   ACTIVITY_LOCATION ACTIVITY_DIVISION  \\\n",
       "0  DIXIE HWY                                     ...      6TH DIVISION   \n",
       "1  DIXIE HWY                                     ...      6TH DIVISION   \n",
       "2  DIXIE HWY                                     ...      6TH DIVISION   \n",
       "3                                       SHAWNEE PARK      2ND DIVISION   \n",
       "4                                     RIVERPARK/34TH      2ND DIVISION   \n",
       "\n",
       "  ACTIVITY_BEAT DRIVER_GENDER DRIVER_RACE DRIVER_AGE_RANGE  \\\n",
       "0        BEAT 2             M       WHITE          31 - 40   \n",
       "1        BEAT 2             M       WHITE          31 - 40   \n",
       "2        BEAT 2             M       WHITE          31 - 40   \n",
       "3        BEAT 1             M       BLACK          31 - 40   \n",
       "4        BEAT 1             M       BLACK          20 - 25   \n",
       "\n",
       "   NUMBER OF PASSENGERS WAS_VEHCILE_SEARCHED REASON_FOR_SEARCH  \n",
       "0                     0                   NO           CONSENT  \n",
       "1                     0                   NO           CONSENT  \n",
       "2                     0                   NO           CONSENT  \n",
       "3                     3                   NO           CONSENT  \n",
       "4                     0                  YES    PROBABLE CAUSE  "
      ]
     },
     "execution_count": 18,
     "metadata": {},
     "output_type": "execute_result"
    }
   ],
   "source": [
    "# Creating a copy of the dataset, to recode values to be numerical for data analysis. \n",
    "df2 = df.copy(deep=True)\n",
    "df2.head()"
   ]
  },
  {
   "cell_type": "code",
   "execution_count": 19,
   "metadata": {},
   "outputs": [
    {
     "name": "stdout",
     "output_type": "stream",
     "text": [
      "ID                         111582\n",
      "TYPE_OF_STOP                    3\n",
      "CITATION_CONTROL_NUMBER     82661\n",
      "ACTIVITY RESULTS                2\n",
      "OFFICER_GENDER                  2\n",
      "OFFICER_RACE                    5\n",
      "OFFICER_AGE_RANGE               5\n",
      "ACTIVITY_DATE                1125\n",
      "ACTIVITY_TIME                1440\n",
      "ACTIVITY_LOCATION           47718\n",
      "ACTIVITY_DIVISION              10\n",
      "ACTIVITY_BEAT                   8\n",
      "DRIVER_GENDER                   2\n",
      "DRIVER_RACE                    10\n",
      "DRIVER_AGE_RANGE                8\n",
      "NUMBER OF PASSENGERS           26\n",
      "WAS_VEHCILE_SEARCHED            2\n",
      "REASON_FOR_SEARCH             296\n",
      "dtype: int64\n"
     ]
    }
   ],
   "source": [
    "print(df2.nunique())"
   ]
  },
  {
   "cell_type": "code",
   "execution_count": 20,
   "metadata": {},
   "outputs": [],
   "source": [
    "X1 = df2.filter(['TYPE_OF_STOP', 'OFFICER_GENDER', 'DRIVER_GENDER',\n",
    "       'WAS_VEHCILE_SEARCHED'])\n",
    "X2 = df2.filter(['ID', 'CITATION_CONTROL_NUMBER', 'ACTIVITY_DATE', 'ACTIVITY_TIME', 'ACTIVITY_LOCATION', \n",
    "        'ACTIVITY_DIVISION', 'ACTIVITY_BEAT', 'OFFICER_AGE_RANGE', 'DRIVER_AGE_RANGE', 'REASON_FOR_SEARCH'])\n",
    "y = df2.iloc[:, 3]\n"
   ]
  },
  {
   "cell_type": "code",
   "execution_count": 21,
   "metadata": {},
   "outputs": [
    {
     "data": {
      "text/html": [
       "<div>\n",
       "<style scoped>\n",
       "    .dataframe tbody tr th:only-of-type {\n",
       "        vertical-align: middle;\n",
       "    }\n",
       "\n",
       "    .dataframe tbody tr th {\n",
       "        vertical-align: top;\n",
       "    }\n",
       "\n",
       "    .dataframe thead th {\n",
       "        text-align: right;\n",
       "    }\n",
       "</style>\n",
       "<table border=\"1\" class=\"dataframe\">\n",
       "  <thead>\n",
       "    <tr style=\"text-align: right;\">\n",
       "      <th></th>\n",
       "      <th>CITATION ISSUED</th>\n",
       "      <th>WARNING</th>\n",
       "    </tr>\n",
       "  </thead>\n",
       "  <tbody>\n",
       "    <tr>\n",
       "      <th>0</th>\n",
       "      <td>0</td>\n",
       "      <td>1</td>\n",
       "    </tr>\n",
       "    <tr>\n",
       "      <th>1</th>\n",
       "      <td>0</td>\n",
       "      <td>1</td>\n",
       "    </tr>\n",
       "    <tr>\n",
       "      <th>2</th>\n",
       "      <td>0</td>\n",
       "      <td>1</td>\n",
       "    </tr>\n",
       "    <tr>\n",
       "      <th>3</th>\n",
       "      <td>0</td>\n",
       "      <td>1</td>\n",
       "    </tr>\n",
       "    <tr>\n",
       "      <th>4</th>\n",
       "      <td>0</td>\n",
       "      <td>1</td>\n",
       "    </tr>\n",
       "  </tbody>\n",
       "</table>\n",
       "</div>"
      ],
      "text/plain": [
       "   CITATION ISSUED  WARNING\n",
       "0                0        1\n",
       "1                0        1\n",
       "2                0        1\n",
       "3                0        1\n",
       "4                0        1"
      ]
     },
     "execution_count": 21,
     "metadata": {},
     "output_type": "execute_result"
    }
   ],
   "source": [
    "y1 = pd.get_dummies(y)\n",
    "y1.head()"
   ]
  },
  {
   "cell_type": "code",
   "execution_count": 22,
   "metadata": {},
   "outputs": [
    {
     "data": {
      "text/html": [
       "<div>\n",
       "<style scoped>\n",
       "    .dataframe tbody tr th:only-of-type {\n",
       "        vertical-align: middle;\n",
       "    }\n",
       "\n",
       "    .dataframe tbody tr th {\n",
       "        vertical-align: top;\n",
       "    }\n",
       "\n",
       "    .dataframe thead th {\n",
       "        text-align: right;\n",
       "    }\n",
       "</style>\n",
       "<table border=\"1\" class=\"dataframe\">\n",
       "  <thead>\n",
       "    <tr style=\"text-align: right;\">\n",
       "      <th></th>\n",
       "      <th>TYPE_OF_STOP_COMPLAINT/CRIMINAL VIOLATION</th>\n",
       "      <th>TYPE_OF_STOP_COMPLIANCE STOP (KVE ONLY)</th>\n",
       "      <th>TYPE_OF_STOP_TRAFFIC VIOLATION</th>\n",
       "      <th>OFFICER_GENDER_F</th>\n",
       "      <th>OFFICER_GENDER_M</th>\n",
       "      <th>DRIVER_GENDER_F</th>\n",
       "      <th>DRIVER_GENDER_M</th>\n",
       "      <th>WAS_VEHCILE_SEARCHED_NO</th>\n",
       "      <th>WAS_VEHCILE_SEARCHED_YES</th>\n",
       "    </tr>\n",
       "  </thead>\n",
       "  <tbody>\n",
       "    <tr>\n",
       "      <th>0</th>\n",
       "      <td>0</td>\n",
       "      <td>0</td>\n",
       "      <td>1</td>\n",
       "      <td>0</td>\n",
       "      <td>1</td>\n",
       "      <td>0</td>\n",
       "      <td>1</td>\n",
       "      <td>1</td>\n",
       "      <td>0</td>\n",
       "    </tr>\n",
       "    <tr>\n",
       "      <th>1</th>\n",
       "      <td>0</td>\n",
       "      <td>0</td>\n",
       "      <td>1</td>\n",
       "      <td>0</td>\n",
       "      <td>1</td>\n",
       "      <td>0</td>\n",
       "      <td>1</td>\n",
       "      <td>1</td>\n",
       "      <td>0</td>\n",
       "    </tr>\n",
       "    <tr>\n",
       "      <th>2</th>\n",
       "      <td>0</td>\n",
       "      <td>0</td>\n",
       "      <td>1</td>\n",
       "      <td>0</td>\n",
       "      <td>1</td>\n",
       "      <td>0</td>\n",
       "      <td>1</td>\n",
       "      <td>1</td>\n",
       "      <td>0</td>\n",
       "    </tr>\n",
       "    <tr>\n",
       "      <th>3</th>\n",
       "      <td>0</td>\n",
       "      <td>0</td>\n",
       "      <td>1</td>\n",
       "      <td>1</td>\n",
       "      <td>0</td>\n",
       "      <td>0</td>\n",
       "      <td>1</td>\n",
       "      <td>1</td>\n",
       "      <td>0</td>\n",
       "    </tr>\n",
       "    <tr>\n",
       "      <th>4</th>\n",
       "      <td>0</td>\n",
       "      <td>0</td>\n",
       "      <td>1</td>\n",
       "      <td>1</td>\n",
       "      <td>0</td>\n",
       "      <td>0</td>\n",
       "      <td>1</td>\n",
       "      <td>0</td>\n",
       "      <td>1</td>\n",
       "    </tr>\n",
       "  </tbody>\n",
       "</table>\n",
       "</div>"
      ],
      "text/plain": [
       "   TYPE_OF_STOP_COMPLAINT/CRIMINAL VIOLATION  \\\n",
       "0                                          0   \n",
       "1                                          0   \n",
       "2                                          0   \n",
       "3                                          0   \n",
       "4                                          0   \n",
       "\n",
       "   TYPE_OF_STOP_COMPLIANCE STOP (KVE ONLY)  TYPE_OF_STOP_TRAFFIC VIOLATION  \\\n",
       "0                                        0                               1   \n",
       "1                                        0                               1   \n",
       "2                                        0                               1   \n",
       "3                                        0                               1   \n",
       "4                                        0                               1   \n",
       "\n",
       "   OFFICER_GENDER_F  OFFICER_GENDER_M  DRIVER_GENDER_F  DRIVER_GENDER_M  \\\n",
       "0                 0                 1                0                1   \n",
       "1                 0                 1                0                1   \n",
       "2                 0                 1                0                1   \n",
       "3                 1                 0                0                1   \n",
       "4                 1                 0                0                1   \n",
       "\n",
       "   WAS_VEHCILE_SEARCHED_NO  WAS_VEHCILE_SEARCHED_YES  \n",
       "0                        1                         0  \n",
       "1                        1                         0  \n",
       "2                        1                         0  \n",
       "3                        1                         0  \n",
       "4                        0                         1  "
      ]
     },
     "execution_count": 22,
     "metadata": {},
     "output_type": "execute_result"
    }
   ],
   "source": [
    "X1 = pd.get_dummies(X1)\n",
    "X1.head()"
   ]
  },
  {
   "cell_type": "code",
   "execution_count": 23,
   "metadata": {},
   "outputs": [
    {
     "data": {
      "text/html": [
       "<div>\n",
       "<style scoped>\n",
       "    .dataframe tbody tr th:only-of-type {\n",
       "        vertical-align: middle;\n",
       "    }\n",
       "\n",
       "    .dataframe tbody tr th {\n",
       "        vertical-align: top;\n",
       "    }\n",
       "\n",
       "    .dataframe thead th {\n",
       "        text-align: right;\n",
       "    }\n",
       "</style>\n",
       "<table border=\"1\" class=\"dataframe\">\n",
       "  <thead>\n",
       "    <tr style=\"text-align: right;\">\n",
       "      <th></th>\n",
       "      <th>TYPE_OF_STOP_COMPLAINT/CRIMINAL VIOLATION</th>\n",
       "      <th>TYPE_OF_STOP_COMPLIANCE STOP (KVE ONLY)</th>\n",
       "      <th>TYPE_OF_STOP_TRAFFIC VIOLATION</th>\n",
       "      <th>OFFICER_GENDER_F</th>\n",
       "      <th>OFFICER_GENDER_M</th>\n",
       "      <th>DRIVER_GENDER_F</th>\n",
       "      <th>DRIVER_GENDER_M</th>\n",
       "      <th>WAS_VEHCILE_SEARCHED_NO</th>\n",
       "      <th>WAS_VEHCILE_SEARCHED_YES</th>\n",
       "      <th>ID</th>\n",
       "      <th>CITATION_CONTROL_NUMBER</th>\n",
       "      <th>ACTIVITY_DATE</th>\n",
       "      <th>ACTIVITY_TIME</th>\n",
       "      <th>ACTIVITY_LOCATION</th>\n",
       "      <th>ACTIVITY_DIVISION</th>\n",
       "      <th>ACTIVITY_BEAT</th>\n",
       "      <th>OFFICER_AGE_RANGE</th>\n",
       "      <th>DRIVER_AGE_RANGE</th>\n",
       "      <th>REASON_FOR_SEARCH</th>\n",
       "    </tr>\n",
       "  </thead>\n",
       "  <tbody>\n",
       "    <tr>\n",
       "      <th>0</th>\n",
       "      <td>0</td>\n",
       "      <td>0</td>\n",
       "      <td>1</td>\n",
       "      <td>0</td>\n",
       "      <td>1</td>\n",
       "      <td>0</td>\n",
       "      <td>1</td>\n",
       "      <td>1</td>\n",
       "      <td>0</td>\n",
       "      <td>1</td>\n",
       "      <td>0</td>\n",
       "      <td>2015-01-24</td>\n",
       "      <td>22:00:00</td>\n",
       "      <td>DIXIE HWY                                     ...</td>\n",
       "      <td>6TH DIVISION</td>\n",
       "      <td>BEAT 2</td>\n",
       "      <td>40 - 50</td>\n",
       "      <td>31 - 40</td>\n",
       "      <td>CONSENT</td>\n",
       "    </tr>\n",
       "    <tr>\n",
       "      <th>1</th>\n",
       "      <td>0</td>\n",
       "      <td>0</td>\n",
       "      <td>1</td>\n",
       "      <td>0</td>\n",
       "      <td>1</td>\n",
       "      <td>0</td>\n",
       "      <td>1</td>\n",
       "      <td>1</td>\n",
       "      <td>0</td>\n",
       "      <td>2</td>\n",
       "      <td>0</td>\n",
       "      <td>2015-01-30</td>\n",
       "      <td>22:00:00</td>\n",
       "      <td>DIXIE HWY                                     ...</td>\n",
       "      <td>6TH DIVISION</td>\n",
       "      <td>BEAT 2</td>\n",
       "      <td>40 - 50</td>\n",
       "      <td>31 - 40</td>\n",
       "      <td>CONSENT</td>\n",
       "    </tr>\n",
       "    <tr>\n",
       "      <th>2</th>\n",
       "      <td>0</td>\n",
       "      <td>0</td>\n",
       "      <td>1</td>\n",
       "      <td>0</td>\n",
       "      <td>1</td>\n",
       "      <td>0</td>\n",
       "      <td>1</td>\n",
       "      <td>1</td>\n",
       "      <td>0</td>\n",
       "      <td>3</td>\n",
       "      <td>0</td>\n",
       "      <td>2016-09-20</td>\n",
       "      <td>22:00:00</td>\n",
       "      <td>DIXIE HWY                                     ...</td>\n",
       "      <td>6TH DIVISION</td>\n",
       "      <td>BEAT 2</td>\n",
       "      <td>40 - 50</td>\n",
       "      <td>31 - 40</td>\n",
       "      <td>CONSENT</td>\n",
       "    </tr>\n",
       "    <tr>\n",
       "      <th>3</th>\n",
       "      <td>0</td>\n",
       "      <td>0</td>\n",
       "      <td>1</td>\n",
       "      <td>1</td>\n",
       "      <td>0</td>\n",
       "      <td>0</td>\n",
       "      <td>1</td>\n",
       "      <td>1</td>\n",
       "      <td>0</td>\n",
       "      <td>4</td>\n",
       "      <td>0</td>\n",
       "      <td>2016-01-22</td>\n",
       "      <td>14:42:00</td>\n",
       "      <td>SHAWNEE PARK</td>\n",
       "      <td>2ND DIVISION</td>\n",
       "      <td>BEAT 1</td>\n",
       "      <td>21 - 30</td>\n",
       "      <td>31 - 40</td>\n",
       "      <td>CONSENT</td>\n",
       "    </tr>\n",
       "    <tr>\n",
       "      <th>4</th>\n",
       "      <td>0</td>\n",
       "      <td>0</td>\n",
       "      <td>1</td>\n",
       "      <td>1</td>\n",
       "      <td>0</td>\n",
       "      <td>0</td>\n",
       "      <td>1</td>\n",
       "      <td>0</td>\n",
       "      <td>1</td>\n",
       "      <td>5</td>\n",
       "      <td>0</td>\n",
       "      <td>2015-09-14</td>\n",
       "      <td>21:10:00</td>\n",
       "      <td>RIVERPARK/34TH</td>\n",
       "      <td>2ND DIVISION</td>\n",
       "      <td>BEAT 1</td>\n",
       "      <td>21 - 30</td>\n",
       "      <td>20 - 25</td>\n",
       "      <td>PROBABLE CAUSE</td>\n",
       "    </tr>\n",
       "  </tbody>\n",
       "</table>\n",
       "</div>"
      ],
      "text/plain": [
       "   TYPE_OF_STOP_COMPLAINT/CRIMINAL VIOLATION  \\\n",
       "0                                          0   \n",
       "1                                          0   \n",
       "2                                          0   \n",
       "3                                          0   \n",
       "4                                          0   \n",
       "\n",
       "   TYPE_OF_STOP_COMPLIANCE STOP (KVE ONLY)  TYPE_OF_STOP_TRAFFIC VIOLATION  \\\n",
       "0                                        0                               1   \n",
       "1                                        0                               1   \n",
       "2                                        0                               1   \n",
       "3                                        0                               1   \n",
       "4                                        0                               1   \n",
       "\n",
       "   OFFICER_GENDER_F  OFFICER_GENDER_M  DRIVER_GENDER_F  DRIVER_GENDER_M  \\\n",
       "0                 0                 1                0                1   \n",
       "1                 0                 1                0                1   \n",
       "2                 0                 1                0                1   \n",
       "3                 1                 0                0                1   \n",
       "4                 1                 0                0                1   \n",
       "\n",
       "   WAS_VEHCILE_SEARCHED_NO  WAS_VEHCILE_SEARCHED_YES  ID  \\\n",
       "0                        1                         0   1   \n",
       "1                        1                         0   2   \n",
       "2                        1                         0   3   \n",
       "3                        1                         0   4   \n",
       "4                        0                         1   5   \n",
       "\n",
       "  CITATION_CONTROL_NUMBER ACTIVITY_DATE ACTIVITY_TIME  \\\n",
       "0                       0    2015-01-24      22:00:00   \n",
       "1                       0    2015-01-30      22:00:00   \n",
       "2                       0    2016-09-20      22:00:00   \n",
       "3                       0    2016-01-22      14:42:00   \n",
       "4                       0    2015-09-14      21:10:00   \n",
       "\n",
       "                                   ACTIVITY_LOCATION ACTIVITY_DIVISION  \\\n",
       "0  DIXIE HWY                                     ...      6TH DIVISION   \n",
       "1  DIXIE HWY                                     ...      6TH DIVISION   \n",
       "2  DIXIE HWY                                     ...      6TH DIVISION   \n",
       "3                                       SHAWNEE PARK      2ND DIVISION   \n",
       "4                                     RIVERPARK/34TH      2ND DIVISION   \n",
       "\n",
       "  ACTIVITY_BEAT OFFICER_AGE_RANGE DRIVER_AGE_RANGE REASON_FOR_SEARCH  \n",
       "0        BEAT 2           40 - 50          31 - 40           CONSENT  \n",
       "1        BEAT 2           40 - 50          31 - 40           CONSENT  \n",
       "2        BEAT 2           40 - 50          31 - 40           CONSENT  \n",
       "3        BEAT 1           21 - 30          31 - 40           CONSENT  \n",
       "4        BEAT 1           21 - 30          20 - 25    PROBABLE CAUSE  "
      ]
     },
     "execution_count": 23,
     "metadata": {},
     "output_type": "execute_result"
    }
   ],
   "source": [
    "df_concat = pd.concat([X1, X2], axis=1, sort=False)\n",
    "df_concat.head()"
   ]
  },
  {
   "cell_type": "code",
   "execution_count": 24,
   "metadata": {},
   "outputs": [],
   "source": [
    "#replacing year with 2025 to 2015.. assuming a typo \n",
    "df_concat['ACTIVITY_DATE'] = df_concat['ACTIVITY_DATE'].str.replace(\"2025\",\"2015\")"
   ]
  },
  {
   "cell_type": "code",
   "execution_count": 25,
   "metadata": {},
   "outputs": [],
   "source": [
    "#converting time column data type to Datetime64\n",
    "df_concat['ACTIVITY_DATE']=df_concat['ACTIVITY_DATE'].astype('Datetime64',copy=True) "
   ]
  },
  {
   "cell_type": "code",
   "execution_count": 26,
   "metadata": {},
   "outputs": [
    {
     "data": {
      "text/html": [
       "<div>\n",
       "<style scoped>\n",
       "    .dataframe tbody tr th:only-of-type {\n",
       "        vertical-align: middle;\n",
       "    }\n",
       "\n",
       "    .dataframe tbody tr th {\n",
       "        vertical-align: top;\n",
       "    }\n",
       "\n",
       "    .dataframe thead th {\n",
       "        text-align: right;\n",
       "    }\n",
       "</style>\n",
       "<table border=\"1\" class=\"dataframe\">\n",
       "  <thead>\n",
       "    <tr style=\"text-align: right;\">\n",
       "      <th></th>\n",
       "      <th>TYPE_OF_STOP_COMPLAINT/CRIMINAL VIOLATION</th>\n",
       "      <th>TYPE_OF_STOP_COMPLIANCE STOP (KVE ONLY)</th>\n",
       "      <th>TYPE_OF_STOP_TRAFFIC VIOLATION</th>\n",
       "      <th>OFFICER_GENDER_F</th>\n",
       "      <th>OFFICER_GENDER_M</th>\n",
       "      <th>DRIVER_GENDER_F</th>\n",
       "      <th>DRIVER_GENDER_M</th>\n",
       "      <th>WAS_VEHCILE_SEARCHED_NO</th>\n",
       "      <th>WAS_VEHCILE_SEARCHED_YES</th>\n",
       "      <th>ID</th>\n",
       "      <th>...</th>\n",
       "      <th>ACTIVITY_LOCATION</th>\n",
       "      <th>ACTIVITY_DIVISION</th>\n",
       "      <th>ACTIVITY_BEAT</th>\n",
       "      <th>OFFICER_AGE_RANGE</th>\n",
       "      <th>DRIVER_AGE_RANGE</th>\n",
       "      <th>REASON_FOR_SEARCH</th>\n",
       "      <th>ACTIVITY_MONTH_YEAR</th>\n",
       "      <th>ACTIVITY_MONTH</th>\n",
       "      <th>ACTIVITY_DAY</th>\n",
       "      <th>ACTIVITY_YEAR</th>\n",
       "    </tr>\n",
       "  </thead>\n",
       "  <tbody>\n",
       "    <tr>\n",
       "      <th>0</th>\n",
       "      <td>0</td>\n",
       "      <td>0</td>\n",
       "      <td>1</td>\n",
       "      <td>0</td>\n",
       "      <td>1</td>\n",
       "      <td>0</td>\n",
       "      <td>1</td>\n",
       "      <td>1</td>\n",
       "      <td>0</td>\n",
       "      <td>1</td>\n",
       "      <td>...</td>\n",
       "      <td>DIXIE HWY                                     ...</td>\n",
       "      <td>6TH DIVISION</td>\n",
       "      <td>BEAT 2</td>\n",
       "      <td>40 - 50</td>\n",
       "      <td>31 - 40</td>\n",
       "      <td>CONSENT</td>\n",
       "      <td>01/15</td>\n",
       "      <td>01</td>\n",
       "      <td>24</td>\n",
       "      <td>15</td>\n",
       "    </tr>\n",
       "    <tr>\n",
       "      <th>1</th>\n",
       "      <td>0</td>\n",
       "      <td>0</td>\n",
       "      <td>1</td>\n",
       "      <td>0</td>\n",
       "      <td>1</td>\n",
       "      <td>0</td>\n",
       "      <td>1</td>\n",
       "      <td>1</td>\n",
       "      <td>0</td>\n",
       "      <td>2</td>\n",
       "      <td>...</td>\n",
       "      <td>DIXIE HWY                                     ...</td>\n",
       "      <td>6TH DIVISION</td>\n",
       "      <td>BEAT 2</td>\n",
       "      <td>40 - 50</td>\n",
       "      <td>31 - 40</td>\n",
       "      <td>CONSENT</td>\n",
       "      <td>01/15</td>\n",
       "      <td>01</td>\n",
       "      <td>30</td>\n",
       "      <td>15</td>\n",
       "    </tr>\n",
       "    <tr>\n",
       "      <th>2</th>\n",
       "      <td>0</td>\n",
       "      <td>0</td>\n",
       "      <td>1</td>\n",
       "      <td>0</td>\n",
       "      <td>1</td>\n",
       "      <td>0</td>\n",
       "      <td>1</td>\n",
       "      <td>1</td>\n",
       "      <td>0</td>\n",
       "      <td>3</td>\n",
       "      <td>...</td>\n",
       "      <td>DIXIE HWY                                     ...</td>\n",
       "      <td>6TH DIVISION</td>\n",
       "      <td>BEAT 2</td>\n",
       "      <td>40 - 50</td>\n",
       "      <td>31 - 40</td>\n",
       "      <td>CONSENT</td>\n",
       "      <td>09/16</td>\n",
       "      <td>09</td>\n",
       "      <td>20</td>\n",
       "      <td>16</td>\n",
       "    </tr>\n",
       "    <tr>\n",
       "      <th>3</th>\n",
       "      <td>0</td>\n",
       "      <td>0</td>\n",
       "      <td>1</td>\n",
       "      <td>1</td>\n",
       "      <td>0</td>\n",
       "      <td>0</td>\n",
       "      <td>1</td>\n",
       "      <td>1</td>\n",
       "      <td>0</td>\n",
       "      <td>4</td>\n",
       "      <td>...</td>\n",
       "      <td>SHAWNEE PARK</td>\n",
       "      <td>2ND DIVISION</td>\n",
       "      <td>BEAT 1</td>\n",
       "      <td>21 - 30</td>\n",
       "      <td>31 - 40</td>\n",
       "      <td>CONSENT</td>\n",
       "      <td>01/16</td>\n",
       "      <td>01</td>\n",
       "      <td>22</td>\n",
       "      <td>16</td>\n",
       "    </tr>\n",
       "    <tr>\n",
       "      <th>4</th>\n",
       "      <td>0</td>\n",
       "      <td>0</td>\n",
       "      <td>1</td>\n",
       "      <td>1</td>\n",
       "      <td>0</td>\n",
       "      <td>0</td>\n",
       "      <td>1</td>\n",
       "      <td>0</td>\n",
       "      <td>1</td>\n",
       "      <td>5</td>\n",
       "      <td>...</td>\n",
       "      <td>RIVERPARK/34TH</td>\n",
       "      <td>2ND DIVISION</td>\n",
       "      <td>BEAT 1</td>\n",
       "      <td>21 - 30</td>\n",
       "      <td>20 - 25</td>\n",
       "      <td>PROBABLE CAUSE</td>\n",
       "      <td>09/15</td>\n",
       "      <td>09</td>\n",
       "      <td>14</td>\n",
       "      <td>15</td>\n",
       "    </tr>\n",
       "  </tbody>\n",
       "</table>\n",
       "<p>5 rows × 23 columns</p>\n",
       "</div>"
      ],
      "text/plain": [
       "   TYPE_OF_STOP_COMPLAINT/CRIMINAL VIOLATION  \\\n",
       "0                                          0   \n",
       "1                                          0   \n",
       "2                                          0   \n",
       "3                                          0   \n",
       "4                                          0   \n",
       "\n",
       "   TYPE_OF_STOP_COMPLIANCE STOP (KVE ONLY)  TYPE_OF_STOP_TRAFFIC VIOLATION  \\\n",
       "0                                        0                               1   \n",
       "1                                        0                               1   \n",
       "2                                        0                               1   \n",
       "3                                        0                               1   \n",
       "4                                        0                               1   \n",
       "\n",
       "   OFFICER_GENDER_F  OFFICER_GENDER_M  DRIVER_GENDER_F  DRIVER_GENDER_M  \\\n",
       "0                 0                 1                0                1   \n",
       "1                 0                 1                0                1   \n",
       "2                 0                 1                0                1   \n",
       "3                 1                 0                0                1   \n",
       "4                 1                 0                0                1   \n",
       "\n",
       "   WAS_VEHCILE_SEARCHED_NO  WAS_VEHCILE_SEARCHED_YES  ID      ...       \\\n",
       "0                        1                         0   1      ...        \n",
       "1                        1                         0   2      ...        \n",
       "2                        1                         0   3      ...        \n",
       "3                        1                         0   4      ...        \n",
       "4                        0                         1   5      ...        \n",
       "\n",
       "                                   ACTIVITY_LOCATION ACTIVITY_DIVISION  \\\n",
       "0  DIXIE HWY                                     ...      6TH DIVISION   \n",
       "1  DIXIE HWY                                     ...      6TH DIVISION   \n",
       "2  DIXIE HWY                                     ...      6TH DIVISION   \n",
       "3                                       SHAWNEE PARK      2ND DIVISION   \n",
       "4                                     RIVERPARK/34TH      2ND DIVISION   \n",
       "\n",
       "  ACTIVITY_BEAT OFFICER_AGE_RANGE DRIVER_AGE_RANGE REASON_FOR_SEARCH  \\\n",
       "0        BEAT 2           40 - 50          31 - 40           CONSENT   \n",
       "1        BEAT 2           40 - 50          31 - 40           CONSENT   \n",
       "2        BEAT 2           40 - 50          31 - 40           CONSENT   \n",
       "3        BEAT 1           21 - 30          31 - 40           CONSENT   \n",
       "4        BEAT 1           21 - 30          20 - 25    PROBABLE CAUSE   \n",
       "\n",
       "  ACTIVITY_MONTH_YEAR ACTIVITY_MONTH ACTIVITY_DAY ACTIVITY_YEAR  \n",
       "0               01/15             01           24            15  \n",
       "1               01/15             01           30            15  \n",
       "2               09/16             09           20            16  \n",
       "3               01/16             01           22            16  \n",
       "4               09/15             09           14            15  \n",
       "\n",
       "[5 rows x 23 columns]"
      ]
     },
     "execution_count": 26,
     "metadata": {},
     "output_type": "execute_result"
    }
   ],
   "source": [
    "#Adding new column of just the year of the activity date\n",
    "df_concat['ACTIVITY_MONTH_YEAR'] = df_concat['ACTIVITY_DATE'].dt.strftime('%m/%y')\n",
    "df_concat['ACTIVITY_MONTH'] = df_concat['ACTIVITY_DATE'].dt.strftime('%m')\n",
    "df_concat['ACTIVITY_DAY'] = df_concat['ACTIVITY_DATE'].dt.strftime('%d') \n",
    "df_concat['ACTIVITY_YEAR'] = df_concat['ACTIVITY_DATE'].dt.strftime('%y')\n",
    "df_concat.head()"
   ]
  },
  {
   "cell_type": "code",
   "execution_count": 27,
   "metadata": {},
   "outputs": [
    {
     "data": {
      "text/plain": [
       "array(['15', '16', '17', '18'], dtype=object)"
      ]
     },
     "execution_count": 27,
     "metadata": {},
     "output_type": "execute_result"
    }
   ],
   "source": [
    "df_concat['ACTIVITY_YEAR'].unique()"
   ]
  },
  {
   "cell_type": "code",
   "execution_count": 28,
   "metadata": {},
   "outputs": [
    {
     "data": {
      "text/plain": [
       "array(['6TH DIVISION', '2ND DIVISION', '3RD DIVISION', '5TH DIVISION',\n",
       "       '4TH DIVISION', '7TH DIVISION', '8TH DIVISION', '1ST DIVISION',\n",
       "       'NON LMPD', ' '], dtype=object)"
      ]
     },
     "execution_count": 28,
     "metadata": {},
     "output_type": "execute_result"
    }
   ],
   "source": [
    "df_concat['ACTIVITY_DIVISION'].unique()"
   ]
  },
  {
   "cell_type": "code",
   "execution_count": 29,
   "metadata": {},
   "outputs": [
    {
     "data": {
      "text/html": [
       "<div>\n",
       "<style scoped>\n",
       "    .dataframe tbody tr th:only-of-type {\n",
       "        vertical-align: middle;\n",
       "    }\n",
       "\n",
       "    .dataframe tbody tr th {\n",
       "        vertical-align: top;\n",
       "    }\n",
       "\n",
       "    .dataframe thead th {\n",
       "        text-align: right;\n",
       "    }\n",
       "</style>\n",
       "<table border=\"1\" class=\"dataframe\">\n",
       "  <thead>\n",
       "    <tr style=\"text-align: right;\">\n",
       "      <th></th>\n",
       "      <th>TYPE_OF_STOP_COMPLAINT/CRIMINAL VIOLATION</th>\n",
       "      <th>TYPE_OF_STOP_COMPLIANCE STOP (KVE ONLY)</th>\n",
       "      <th>TYPE_OF_STOP_TRAFFIC VIOLATION</th>\n",
       "      <th>OFFICER_GENDER_F</th>\n",
       "      <th>OFFICER_GENDER_M</th>\n",
       "      <th>DRIVER_GENDER_F</th>\n",
       "      <th>DRIVER_GENDER_M</th>\n",
       "      <th>WAS_VEHCILE_SEARCHED_NO</th>\n",
       "      <th>WAS_VEHCILE_SEARCHED_YES</th>\n",
       "      <th>ID</th>\n",
       "      <th>...</th>\n",
       "      <th>ACTIVITY_LOCATION</th>\n",
       "      <th>ACTIVITY_DIVISION</th>\n",
       "      <th>ACTIVITY_BEAT</th>\n",
       "      <th>OFFICER_AGE_RANGE</th>\n",
       "      <th>DRIVER_AGE_RANGE</th>\n",
       "      <th>REASON_FOR_SEARCH</th>\n",
       "      <th>ACTIVITY_MONTH_YEAR</th>\n",
       "      <th>ACTIVITY_MONTH</th>\n",
       "      <th>ACTIVITY_DAY</th>\n",
       "      <th>ACTIVITY_YEAR</th>\n",
       "    </tr>\n",
       "  </thead>\n",
       "  <tbody>\n",
       "    <tr>\n",
       "      <th>0</th>\n",
       "      <td>0</td>\n",
       "      <td>0</td>\n",
       "      <td>1</td>\n",
       "      <td>0</td>\n",
       "      <td>1</td>\n",
       "      <td>0</td>\n",
       "      <td>1</td>\n",
       "      <td>1</td>\n",
       "      <td>0</td>\n",
       "      <td>1</td>\n",
       "      <td>...</td>\n",
       "      <td>DIXIE HWY                                     ...</td>\n",
       "      <td>6TH DIVISION</td>\n",
       "      <td>BEAT 2</td>\n",
       "      <td>40 - 50</td>\n",
       "      <td>31 - 40</td>\n",
       "      <td>CONSENT</td>\n",
       "      <td>01/15</td>\n",
       "      <td>01</td>\n",
       "      <td>24</td>\n",
       "      <td>15</td>\n",
       "    </tr>\n",
       "    <tr>\n",
       "      <th>1</th>\n",
       "      <td>0</td>\n",
       "      <td>0</td>\n",
       "      <td>1</td>\n",
       "      <td>0</td>\n",
       "      <td>1</td>\n",
       "      <td>0</td>\n",
       "      <td>1</td>\n",
       "      <td>1</td>\n",
       "      <td>0</td>\n",
       "      <td>2</td>\n",
       "      <td>...</td>\n",
       "      <td>DIXIE HWY                                     ...</td>\n",
       "      <td>6TH DIVISION</td>\n",
       "      <td>BEAT 2</td>\n",
       "      <td>40 - 50</td>\n",
       "      <td>31 - 40</td>\n",
       "      <td>CONSENT</td>\n",
       "      <td>01/15</td>\n",
       "      <td>01</td>\n",
       "      <td>30</td>\n",
       "      <td>15</td>\n",
       "    </tr>\n",
       "    <tr>\n",
       "      <th>2</th>\n",
       "      <td>0</td>\n",
       "      <td>0</td>\n",
       "      <td>1</td>\n",
       "      <td>0</td>\n",
       "      <td>1</td>\n",
       "      <td>0</td>\n",
       "      <td>1</td>\n",
       "      <td>1</td>\n",
       "      <td>0</td>\n",
       "      <td>3</td>\n",
       "      <td>...</td>\n",
       "      <td>DIXIE HWY                                     ...</td>\n",
       "      <td>6TH DIVISION</td>\n",
       "      <td>BEAT 2</td>\n",
       "      <td>40 - 50</td>\n",
       "      <td>31 - 40</td>\n",
       "      <td>CONSENT</td>\n",
       "      <td>09/16</td>\n",
       "      <td>09</td>\n",
       "      <td>20</td>\n",
       "      <td>16</td>\n",
       "    </tr>\n",
       "    <tr>\n",
       "      <th>3</th>\n",
       "      <td>0</td>\n",
       "      <td>0</td>\n",
       "      <td>1</td>\n",
       "      <td>1</td>\n",
       "      <td>0</td>\n",
       "      <td>0</td>\n",
       "      <td>1</td>\n",
       "      <td>1</td>\n",
       "      <td>0</td>\n",
       "      <td>4</td>\n",
       "      <td>...</td>\n",
       "      <td>SHAWNEE PARK</td>\n",
       "      <td>2ND DIVISION</td>\n",
       "      <td>BEAT 1</td>\n",
       "      <td>21 - 30</td>\n",
       "      <td>31 - 40</td>\n",
       "      <td>CONSENT</td>\n",
       "      <td>01/16</td>\n",
       "      <td>01</td>\n",
       "      <td>22</td>\n",
       "      <td>16</td>\n",
       "    </tr>\n",
       "    <tr>\n",
       "      <th>4</th>\n",
       "      <td>0</td>\n",
       "      <td>0</td>\n",
       "      <td>1</td>\n",
       "      <td>1</td>\n",
       "      <td>0</td>\n",
       "      <td>0</td>\n",
       "      <td>1</td>\n",
       "      <td>0</td>\n",
       "      <td>1</td>\n",
       "      <td>5</td>\n",
       "      <td>...</td>\n",
       "      <td>RIVERPARK/34TH</td>\n",
       "      <td>2ND DIVISION</td>\n",
       "      <td>BEAT 1</td>\n",
       "      <td>21 - 30</td>\n",
       "      <td>20 - 25</td>\n",
       "      <td>PROBABLE CAUSE</td>\n",
       "      <td>09/15</td>\n",
       "      <td>09</td>\n",
       "      <td>14</td>\n",
       "      <td>15</td>\n",
       "    </tr>\n",
       "  </tbody>\n",
       "</table>\n",
       "<p>5 rows × 23 columns</p>\n",
       "</div>"
      ],
      "text/plain": [
       "   TYPE_OF_STOP_COMPLAINT/CRIMINAL VIOLATION  \\\n",
       "0                                          0   \n",
       "1                                          0   \n",
       "2                                          0   \n",
       "3                                          0   \n",
       "4                                          0   \n",
       "\n",
       "   TYPE_OF_STOP_COMPLIANCE STOP (KVE ONLY)  TYPE_OF_STOP_TRAFFIC VIOLATION  \\\n",
       "0                                        0                               1   \n",
       "1                                        0                               1   \n",
       "2                                        0                               1   \n",
       "3                                        0                               1   \n",
       "4                                        0                               1   \n",
       "\n",
       "   OFFICER_GENDER_F  OFFICER_GENDER_M  DRIVER_GENDER_F  DRIVER_GENDER_M  \\\n",
       "0                 0                 1                0                1   \n",
       "1                 0                 1                0                1   \n",
       "2                 0                 1                0                1   \n",
       "3                 1                 0                0                1   \n",
       "4                 1                 0                0                1   \n",
       "\n",
       "   WAS_VEHCILE_SEARCHED_NO  WAS_VEHCILE_SEARCHED_YES  ID      ...       \\\n",
       "0                        1                         0   1      ...        \n",
       "1                        1                         0   2      ...        \n",
       "2                        1                         0   3      ...        \n",
       "3                        1                         0   4      ...        \n",
       "4                        0                         1   5      ...        \n",
       "\n",
       "                                   ACTIVITY_LOCATION ACTIVITY_DIVISION  \\\n",
       "0  DIXIE HWY                                     ...      6TH DIVISION   \n",
       "1  DIXIE HWY                                     ...      6TH DIVISION   \n",
       "2  DIXIE HWY                                     ...      6TH DIVISION   \n",
       "3                                       SHAWNEE PARK      2ND DIVISION   \n",
       "4                                     RIVERPARK/34TH      2ND DIVISION   \n",
       "\n",
       "  ACTIVITY_BEAT OFFICER_AGE_RANGE DRIVER_AGE_RANGE REASON_FOR_SEARCH  \\\n",
       "0        BEAT 2           40 - 50          31 - 40           CONSENT   \n",
       "1        BEAT 2           40 - 50          31 - 40           CONSENT   \n",
       "2        BEAT 2           40 - 50          31 - 40           CONSENT   \n",
       "3        BEAT 1           21 - 30          31 - 40           CONSENT   \n",
       "4        BEAT 1           21 - 30          20 - 25    PROBABLE CAUSE   \n",
       "\n",
       "  ACTIVITY_MONTH_YEAR ACTIVITY_MONTH ACTIVITY_DAY ACTIVITY_YEAR  \n",
       "0               01/15             01           24            15  \n",
       "1               01/15             01           30            15  \n",
       "2               09/16             09           20            16  \n",
       "3               01/16             01           22            16  \n",
       "4               09/15             09           14            15  \n",
       "\n",
       "[5 rows x 23 columns]"
      ]
     },
     "execution_count": 29,
     "metadata": {},
     "output_type": "execute_result"
    }
   ],
   "source": [
    "#Adding new column of just the year of the activity date\n",
    "df_concat['ACTIVITY_MONTH_YEAR'] = df_concat['ACTIVITY_DATE'].dt.strftime('%m/%y')\n",
    "df_concat['ACTIVITY_MONTH'] = df_concat['ACTIVITY_DATE'].dt.strftime('%m')\n",
    "df_concat['ACTIVITY_DAY'] = df_concat['ACTIVITY_DATE'].dt.strftime('%d') \n",
    "df_concat['ACTIVITY_YEAR'] = df_concat['ACTIVITY_DATE'].dt.strftime('%y')\n",
    "df_concat.head()"
   ]
  },
  {
   "cell_type": "code",
   "execution_count": 30,
   "metadata": {},
   "outputs": [],
   "source": [
    "#Changing column Activity_Time from 24 hour to 12 hour \n",
    "import datetime\n",
    "times = df_concat['ACTIVITY_TIME']\n",
    "df_concat['ACTIVITY_TIME']=[datetime.datetime.strptime(time, \"%H:%M:%S\").strftime(\"%I:%M %p\") for time in times]"
   ]
  },
  {
   "cell_type": "code",
   "execution_count": 31,
   "metadata": {},
   "outputs": [
    {
     "data": {
      "text/html": [
       "<div>\n",
       "<style scoped>\n",
       "    .dataframe tbody tr th:only-of-type {\n",
       "        vertical-align: middle;\n",
       "    }\n",
       "\n",
       "    .dataframe tbody tr th {\n",
       "        vertical-align: top;\n",
       "    }\n",
       "\n",
       "    .dataframe thead th {\n",
       "        text-align: right;\n",
       "    }\n",
       "</style>\n",
       "<table border=\"1\" class=\"dataframe\">\n",
       "  <thead>\n",
       "    <tr style=\"text-align: right;\">\n",
       "      <th></th>\n",
       "      <th>TYPE_OF_STOP_COMPLAINT/CRIMINAL VIOLATION</th>\n",
       "      <th>TYPE_OF_STOP_COMPLIANCE STOP (KVE ONLY)</th>\n",
       "      <th>TYPE_OF_STOP_TRAFFIC VIOLATION</th>\n",
       "      <th>OFFICER_GENDER_F</th>\n",
       "      <th>OFFICER_GENDER_M</th>\n",
       "      <th>DRIVER_GENDER_F</th>\n",
       "      <th>DRIVER_GENDER_M</th>\n",
       "      <th>WAS_VEHCILE_SEARCHED_NO</th>\n",
       "      <th>WAS_VEHCILE_SEARCHED_YES</th>\n",
       "      <th>ID</th>\n",
       "      <th>...</th>\n",
       "      <th>ACTIVITY_LOCATION</th>\n",
       "      <th>ACTIVITY_DIVISION</th>\n",
       "      <th>ACTIVITY_BEAT</th>\n",
       "      <th>OFFICER_AGE_RANGE</th>\n",
       "      <th>DRIVER_AGE_RANGE</th>\n",
       "      <th>REASON_FOR_SEARCH</th>\n",
       "      <th>ACTIVITY_MONTH_YEAR</th>\n",
       "      <th>ACTIVITY_MONTH</th>\n",
       "      <th>ACTIVITY_DAY</th>\n",
       "      <th>ACTIVITY_YEAR</th>\n",
       "    </tr>\n",
       "  </thead>\n",
       "  <tbody>\n",
       "    <tr>\n",
       "      <th>0</th>\n",
       "      <td>0</td>\n",
       "      <td>0</td>\n",
       "      <td>1</td>\n",
       "      <td>0</td>\n",
       "      <td>1</td>\n",
       "      <td>0</td>\n",
       "      <td>1</td>\n",
       "      <td>1</td>\n",
       "      <td>0</td>\n",
       "      <td>1</td>\n",
       "      <td>...</td>\n",
       "      <td>DIXIE HWY                                     ...</td>\n",
       "      <td>6TH DIVISION</td>\n",
       "      <td>BEAT 2</td>\n",
       "      <td>40 - 50</td>\n",
       "      <td>31 - 40</td>\n",
       "      <td>CONSENT</td>\n",
       "      <td>01/15</td>\n",
       "      <td>01</td>\n",
       "      <td>24</td>\n",
       "      <td>15</td>\n",
       "    </tr>\n",
       "    <tr>\n",
       "      <th>1</th>\n",
       "      <td>0</td>\n",
       "      <td>0</td>\n",
       "      <td>1</td>\n",
       "      <td>0</td>\n",
       "      <td>1</td>\n",
       "      <td>0</td>\n",
       "      <td>1</td>\n",
       "      <td>1</td>\n",
       "      <td>0</td>\n",
       "      <td>2</td>\n",
       "      <td>...</td>\n",
       "      <td>DIXIE HWY                                     ...</td>\n",
       "      <td>6TH DIVISION</td>\n",
       "      <td>BEAT 2</td>\n",
       "      <td>40 - 50</td>\n",
       "      <td>31 - 40</td>\n",
       "      <td>CONSENT</td>\n",
       "      <td>01/15</td>\n",
       "      <td>01</td>\n",
       "      <td>30</td>\n",
       "      <td>15</td>\n",
       "    </tr>\n",
       "    <tr>\n",
       "      <th>2</th>\n",
       "      <td>0</td>\n",
       "      <td>0</td>\n",
       "      <td>1</td>\n",
       "      <td>0</td>\n",
       "      <td>1</td>\n",
       "      <td>0</td>\n",
       "      <td>1</td>\n",
       "      <td>1</td>\n",
       "      <td>0</td>\n",
       "      <td>3</td>\n",
       "      <td>...</td>\n",
       "      <td>DIXIE HWY                                     ...</td>\n",
       "      <td>6TH DIVISION</td>\n",
       "      <td>BEAT 2</td>\n",
       "      <td>40 - 50</td>\n",
       "      <td>31 - 40</td>\n",
       "      <td>CONSENT</td>\n",
       "      <td>09/16</td>\n",
       "      <td>09</td>\n",
       "      <td>20</td>\n",
       "      <td>16</td>\n",
       "    </tr>\n",
       "    <tr>\n",
       "      <th>3</th>\n",
       "      <td>0</td>\n",
       "      <td>0</td>\n",
       "      <td>1</td>\n",
       "      <td>1</td>\n",
       "      <td>0</td>\n",
       "      <td>0</td>\n",
       "      <td>1</td>\n",
       "      <td>1</td>\n",
       "      <td>0</td>\n",
       "      <td>4</td>\n",
       "      <td>...</td>\n",
       "      <td>SHAWNEE PARK</td>\n",
       "      <td>2ND DIVISION</td>\n",
       "      <td>BEAT 1</td>\n",
       "      <td>21 - 30</td>\n",
       "      <td>31 - 40</td>\n",
       "      <td>CONSENT</td>\n",
       "      <td>01/16</td>\n",
       "      <td>01</td>\n",
       "      <td>22</td>\n",
       "      <td>16</td>\n",
       "    </tr>\n",
       "    <tr>\n",
       "      <th>4</th>\n",
       "      <td>0</td>\n",
       "      <td>0</td>\n",
       "      <td>1</td>\n",
       "      <td>1</td>\n",
       "      <td>0</td>\n",
       "      <td>0</td>\n",
       "      <td>1</td>\n",
       "      <td>0</td>\n",
       "      <td>1</td>\n",
       "      <td>5</td>\n",
       "      <td>...</td>\n",
       "      <td>RIVERPARK/34TH</td>\n",
       "      <td>2ND DIVISION</td>\n",
       "      <td>BEAT 1</td>\n",
       "      <td>21 - 30</td>\n",
       "      <td>20 - 25</td>\n",
       "      <td>PROBABLE CAUSE</td>\n",
       "      <td>09/15</td>\n",
       "      <td>09</td>\n",
       "      <td>14</td>\n",
       "      <td>15</td>\n",
       "    </tr>\n",
       "  </tbody>\n",
       "</table>\n",
       "<p>5 rows × 23 columns</p>\n",
       "</div>"
      ],
      "text/plain": [
       "   TYPE_OF_STOP_COMPLAINT/CRIMINAL VIOLATION  \\\n",
       "0                                          0   \n",
       "1                                          0   \n",
       "2                                          0   \n",
       "3                                          0   \n",
       "4                                          0   \n",
       "\n",
       "   TYPE_OF_STOP_COMPLIANCE STOP (KVE ONLY)  TYPE_OF_STOP_TRAFFIC VIOLATION  \\\n",
       "0                                        0                               1   \n",
       "1                                        0                               1   \n",
       "2                                        0                               1   \n",
       "3                                        0                               1   \n",
       "4                                        0                               1   \n",
       "\n",
       "   OFFICER_GENDER_F  OFFICER_GENDER_M  DRIVER_GENDER_F  DRIVER_GENDER_M  \\\n",
       "0                 0                 1                0                1   \n",
       "1                 0                 1                0                1   \n",
       "2                 0                 1                0                1   \n",
       "3                 1                 0                0                1   \n",
       "4                 1                 0                0                1   \n",
       "\n",
       "   WAS_VEHCILE_SEARCHED_NO  WAS_VEHCILE_SEARCHED_YES  ID      ...       \\\n",
       "0                        1                         0   1      ...        \n",
       "1                        1                         0   2      ...        \n",
       "2                        1                         0   3      ...        \n",
       "3                        1                         0   4      ...        \n",
       "4                        0                         1   5      ...        \n",
       "\n",
       "                                   ACTIVITY_LOCATION ACTIVITY_DIVISION  \\\n",
       "0  DIXIE HWY                                     ...      6TH DIVISION   \n",
       "1  DIXIE HWY                                     ...      6TH DIVISION   \n",
       "2  DIXIE HWY                                     ...      6TH DIVISION   \n",
       "3                                       SHAWNEE PARK      2ND DIVISION   \n",
       "4                                     RIVERPARK/34TH      2ND DIVISION   \n",
       "\n",
       "  ACTIVITY_BEAT OFFICER_AGE_RANGE DRIVER_AGE_RANGE REASON_FOR_SEARCH  \\\n",
       "0        BEAT 2           40 - 50          31 - 40           CONSENT   \n",
       "1        BEAT 2           40 - 50          31 - 40           CONSENT   \n",
       "2        BEAT 2           40 - 50          31 - 40           CONSENT   \n",
       "3        BEAT 1           21 - 30          31 - 40           CONSENT   \n",
       "4        BEAT 1           21 - 30          20 - 25    PROBABLE CAUSE   \n",
       "\n",
       "  ACTIVITY_MONTH_YEAR ACTIVITY_MONTH ACTIVITY_DAY ACTIVITY_YEAR  \n",
       "0               01/15             01           24            15  \n",
       "1               01/15             01           30            15  \n",
       "2               09/16             09           20            16  \n",
       "3               01/16             01           22            16  \n",
       "4               09/15             09           14            15  \n",
       "\n",
       "[5 rows x 23 columns]"
      ]
     },
     "execution_count": 31,
     "metadata": {},
     "output_type": "execute_result"
    }
   ],
   "source": [
    "#Replacing 'over 60' with age range 61-70, and 'UNDER 16' with age range 15-10\n",
    "df_concat = df_concat.replace({'OFFICER_AGE_RANGE': {'OVER 60': '61 - 70'}})\n",
    "df_concat = df_concat.replace({'DRIVER_AGE_RANGE': {'OVER 60': '61 - 70', 'UNDER 16': '15 - 10'}})\n",
    "df_concat.head()"
   ]
  },
  {
   "cell_type": "code",
   "execution_count": 32,
   "metadata": {},
   "outputs": [],
   "source": [
    "#using split_mean() function to split age ranges to calculate mean, added columns'OFFICER_AGE_MEAN' & 'DRIVER_AGE_MEAN'\n",
    "def split_mean(x):\n",
    "    split_list = x.split('-')\n",
    "    mean = (float(split_list[0])+float(split_list[1]))/2\n",
    "    return mean\n",
    "\n",
    "df_concat['OFFICER_AGE_MEAN'] = df_concat['OFFICER_AGE_RANGE'].apply(lambda x: split_mean(x))\n",
    "df_concat['DRIVER_AGE_MEAN'] = df_concat['DRIVER_AGE_RANGE'].apply(lambda x: split_mean(x))"
   ]
  },
  {
   "cell_type": "code",
   "execution_count": 33,
   "metadata": {},
   "outputs": [
    {
     "data": {
      "text/html": [
       "<div>\n",
       "<style scoped>\n",
       "    .dataframe tbody tr th:only-of-type {\n",
       "        vertical-align: middle;\n",
       "    }\n",
       "\n",
       "    .dataframe tbody tr th {\n",
       "        vertical-align: top;\n",
       "    }\n",
       "\n",
       "    .dataframe thead th {\n",
       "        text-align: right;\n",
       "    }\n",
       "</style>\n",
       "<table border=\"1\" class=\"dataframe\">\n",
       "  <thead>\n",
       "    <tr style=\"text-align: right;\">\n",
       "      <th></th>\n",
       "      <th>TYPE_OF_STOP_COMPLAINT/CRIMINAL VIOLATION</th>\n",
       "      <th>TYPE_OF_STOP_COMPLIANCE STOP (KVE ONLY)</th>\n",
       "      <th>TYPE_OF_STOP_TRAFFIC VIOLATION</th>\n",
       "      <th>OFFICER_GENDER_F</th>\n",
       "      <th>OFFICER_GENDER_M</th>\n",
       "      <th>DRIVER_GENDER_F</th>\n",
       "      <th>DRIVER_GENDER_M</th>\n",
       "      <th>WAS_VEHCILE_SEARCHED_NO</th>\n",
       "      <th>WAS_VEHCILE_SEARCHED_YES</th>\n",
       "      <th>ID</th>\n",
       "      <th>...</th>\n",
       "      <th>ACTIVITY_BEAT</th>\n",
       "      <th>OFFICER_AGE_RANGE</th>\n",
       "      <th>DRIVER_AGE_RANGE</th>\n",
       "      <th>REASON_FOR_SEARCH</th>\n",
       "      <th>ACTIVITY_MONTH_YEAR</th>\n",
       "      <th>ACTIVITY_MONTH</th>\n",
       "      <th>ACTIVITY_DAY</th>\n",
       "      <th>ACTIVITY_YEAR</th>\n",
       "      <th>OFFICER_AGE_MEAN</th>\n",
       "      <th>DRIVER_AGE_MEAN</th>\n",
       "    </tr>\n",
       "  </thead>\n",
       "  <tbody>\n",
       "    <tr>\n",
       "      <th>0</th>\n",
       "      <td>0</td>\n",
       "      <td>0</td>\n",
       "      <td>1</td>\n",
       "      <td>0</td>\n",
       "      <td>1</td>\n",
       "      <td>0</td>\n",
       "      <td>1</td>\n",
       "      <td>1</td>\n",
       "      <td>0</td>\n",
       "      <td>1</td>\n",
       "      <td>...</td>\n",
       "      <td>BEAT 2</td>\n",
       "      <td>40 - 50</td>\n",
       "      <td>31 - 40</td>\n",
       "      <td>CONSENT</td>\n",
       "      <td>01/15</td>\n",
       "      <td>01</td>\n",
       "      <td>24</td>\n",
       "      <td>15</td>\n",
       "      <td>45.0</td>\n",
       "      <td>35.5</td>\n",
       "    </tr>\n",
       "    <tr>\n",
       "      <th>1</th>\n",
       "      <td>0</td>\n",
       "      <td>0</td>\n",
       "      <td>1</td>\n",
       "      <td>0</td>\n",
       "      <td>1</td>\n",
       "      <td>0</td>\n",
       "      <td>1</td>\n",
       "      <td>1</td>\n",
       "      <td>0</td>\n",
       "      <td>2</td>\n",
       "      <td>...</td>\n",
       "      <td>BEAT 2</td>\n",
       "      <td>40 - 50</td>\n",
       "      <td>31 - 40</td>\n",
       "      <td>CONSENT</td>\n",
       "      <td>01/15</td>\n",
       "      <td>01</td>\n",
       "      <td>30</td>\n",
       "      <td>15</td>\n",
       "      <td>45.0</td>\n",
       "      <td>35.5</td>\n",
       "    </tr>\n",
       "    <tr>\n",
       "      <th>2</th>\n",
       "      <td>0</td>\n",
       "      <td>0</td>\n",
       "      <td>1</td>\n",
       "      <td>0</td>\n",
       "      <td>1</td>\n",
       "      <td>0</td>\n",
       "      <td>1</td>\n",
       "      <td>1</td>\n",
       "      <td>0</td>\n",
       "      <td>3</td>\n",
       "      <td>...</td>\n",
       "      <td>BEAT 2</td>\n",
       "      <td>40 - 50</td>\n",
       "      <td>31 - 40</td>\n",
       "      <td>CONSENT</td>\n",
       "      <td>09/16</td>\n",
       "      <td>09</td>\n",
       "      <td>20</td>\n",
       "      <td>16</td>\n",
       "      <td>45.0</td>\n",
       "      <td>35.5</td>\n",
       "    </tr>\n",
       "    <tr>\n",
       "      <th>3</th>\n",
       "      <td>0</td>\n",
       "      <td>0</td>\n",
       "      <td>1</td>\n",
       "      <td>1</td>\n",
       "      <td>0</td>\n",
       "      <td>0</td>\n",
       "      <td>1</td>\n",
       "      <td>1</td>\n",
       "      <td>0</td>\n",
       "      <td>4</td>\n",
       "      <td>...</td>\n",
       "      <td>BEAT 1</td>\n",
       "      <td>21 - 30</td>\n",
       "      <td>31 - 40</td>\n",
       "      <td>CONSENT</td>\n",
       "      <td>01/16</td>\n",
       "      <td>01</td>\n",
       "      <td>22</td>\n",
       "      <td>16</td>\n",
       "      <td>25.5</td>\n",
       "      <td>35.5</td>\n",
       "    </tr>\n",
       "    <tr>\n",
       "      <th>4</th>\n",
       "      <td>0</td>\n",
       "      <td>0</td>\n",
       "      <td>1</td>\n",
       "      <td>1</td>\n",
       "      <td>0</td>\n",
       "      <td>0</td>\n",
       "      <td>1</td>\n",
       "      <td>0</td>\n",
       "      <td>1</td>\n",
       "      <td>5</td>\n",
       "      <td>...</td>\n",
       "      <td>BEAT 1</td>\n",
       "      <td>21 - 30</td>\n",
       "      <td>20 - 25</td>\n",
       "      <td>PROBABLE CAUSE</td>\n",
       "      <td>09/15</td>\n",
       "      <td>09</td>\n",
       "      <td>14</td>\n",
       "      <td>15</td>\n",
       "      <td>25.5</td>\n",
       "      <td>22.5</td>\n",
       "    </tr>\n",
       "  </tbody>\n",
       "</table>\n",
       "<p>5 rows × 25 columns</p>\n",
       "</div>"
      ],
      "text/plain": [
       "   TYPE_OF_STOP_COMPLAINT/CRIMINAL VIOLATION  \\\n",
       "0                                          0   \n",
       "1                                          0   \n",
       "2                                          0   \n",
       "3                                          0   \n",
       "4                                          0   \n",
       "\n",
       "   TYPE_OF_STOP_COMPLIANCE STOP (KVE ONLY)  TYPE_OF_STOP_TRAFFIC VIOLATION  \\\n",
       "0                                        0                               1   \n",
       "1                                        0                               1   \n",
       "2                                        0                               1   \n",
       "3                                        0                               1   \n",
       "4                                        0                               1   \n",
       "\n",
       "   OFFICER_GENDER_F  OFFICER_GENDER_M  DRIVER_GENDER_F  DRIVER_GENDER_M  \\\n",
       "0                 0                 1                0                1   \n",
       "1                 0                 1                0                1   \n",
       "2                 0                 1                0                1   \n",
       "3                 1                 0                0                1   \n",
       "4                 1                 0                0                1   \n",
       "\n",
       "   WAS_VEHCILE_SEARCHED_NO  WAS_VEHCILE_SEARCHED_YES  ID       ...        \\\n",
       "0                        1                         0   1       ...         \n",
       "1                        1                         0   2       ...         \n",
       "2                        1                         0   3       ...         \n",
       "3                        1                         0   4       ...         \n",
       "4                        0                         1   5       ...         \n",
       "\n",
       "  ACTIVITY_BEAT OFFICER_AGE_RANGE DRIVER_AGE_RANGE REASON_FOR_SEARCH  \\\n",
       "0        BEAT 2           40 - 50          31 - 40           CONSENT   \n",
       "1        BEAT 2           40 - 50          31 - 40           CONSENT   \n",
       "2        BEAT 2           40 - 50          31 - 40           CONSENT   \n",
       "3        BEAT 1           21 - 30          31 - 40           CONSENT   \n",
       "4        BEAT 1           21 - 30          20 - 25    PROBABLE CAUSE   \n",
       "\n",
       "  ACTIVITY_MONTH_YEAR ACTIVITY_MONTH ACTIVITY_DAY ACTIVITY_YEAR  \\\n",
       "0               01/15             01           24            15   \n",
       "1               01/15             01           30            15   \n",
       "2               09/16             09           20            16   \n",
       "3               01/16             01           22            16   \n",
       "4               09/15             09           14            15   \n",
       "\n",
       "  OFFICER_AGE_MEAN DRIVER_AGE_MEAN  \n",
       "0             45.0            35.5  \n",
       "1             45.0            35.5  \n",
       "2             45.0            35.5  \n",
       "3             25.5            35.5  \n",
       "4             25.5            22.5  \n",
       "\n",
       "[5 rows x 25 columns]"
      ]
     },
     "execution_count": 33,
     "metadata": {},
     "output_type": "execute_result"
    }
   ],
   "source": [
    "df_concat.head()"
   ]
  },
  {
   "cell_type": "code",
   "execution_count": 36,
   "metadata": {},
   "outputs": [
    {
     "data": {
      "text/plain": [
       "<Figure size 8000x4800 with 0 Axes>"
      ]
     },
     "execution_count": 36,
     "metadata": {},
     "output_type": "execute_result"
    },
    {
     "data": {
      "image/png": "[encoded data removed]",
      "text/plain": [
       "<Figure size 432x288 with 1 Axes>"
      ]
     },
     "metadata": {
      "needs_background": "light"
     },
     "output_type": "display_data"
    },
    {
     "data": {
      "text/plain": [
       "<Figure size 8000x4800 with 0 Axes>"
      ]
     },
     "metadata": {},
     "output_type": "display_data"
    }
   ],
   "source": [
    "df_concat['ACTIVITY_MONTH_YEAR'].value_counts().plot.bar(title=\"Number of Stops by Month\")\n",
    "\n",
    "from matplotlib.pyplot import figure\n",
    "figure(num=None, figsize=(100, 60), dpi=80, facecolor='w', edgecolor='k')"
   ]
  },
  {
   "cell_type": "code",
   "execution_count": 37,
   "metadata": {},
   "outputs": [
    {
     "data": {
      "text/plain": [
       "<matplotlib.axes._subplots.AxesSubplot at 0x7f6612018b70>"
      ]
     },
     "execution_count": 37,
     "metadata": {},
     "output_type": "execute_result"
    },
    {
     "data": {
      "image/png": "[encoded data removed]",
      "text/plain": [
       "<Figure size 432x288 with 1 Axes>"
      ]
     },
     "metadata": {
      "needs_background": "light"
     },
     "output_type": "display_data"
    }
   ],
   "source": [
    "df2['WAS_VEHCILE_SEARCHED'].value_counts().plot.bar(title=\"WAS_VEHCILE_SEARCHED\")"
   ]
  },
  {
   "cell_type": "code",
   "execution_count": 38,
   "metadata": {},
   "outputs": [
    {
     "data": {
      "text/plain": [
       "<matplotlib.axes._subplots.AxesSubplot at 0x7f6611f48e80>"
      ]
     },
     "execution_count": 38,
     "metadata": {},
     "output_type": "execute_result"
    },
    {
     "data": {
      "image/png": "[encoded data removed]",
      "text/plain": [
       "<Figure size 432x288 with 1 Axes>"
      ]
     },
     "metadata": {
      "needs_background": "light"
     },
     "output_type": "display_data"
    }
   ],
   "source": [
    "df_concat['ACTIVITY_BEAT'].value_counts().plot.bar(title=\"Activity Beat\")"
   ]
  },
  {
   "cell_type": "code",
   "execution_count": 39,
   "metadata": {},
   "outputs": [
    {
     "data": {
      "text/plain": [
       "Text(0, 0.5, 'values')"
      ]
     },
     "execution_count": 39,
     "metadata": {},
     "output_type": "execute_result"
    },
    {
     "data": {
      "image/png": "[encoded data removed]",
      "text/plain": [
       "<Figure size 432x288 with 1 Axes>"
      ]
     },
     "metadata": {
      "needs_background": "light"
     },
     "output_type": "display_data"
    }
   ],
   "source": [
    "# Officer Mean Age histogram  \n",
    "df_concat['OFFICER_AGE_MEAN'].hist(color = 'blue')\n",
    "\n",
    "plt.title('Officer Average Age')\n",
    "plt.xlabel('Average Age')\n",
    "plt.ylabel('values')\n"
   ]
  },
  {
   "cell_type": "code",
   "execution_count": 40,
   "metadata": {},
   "outputs": [
    {
     "data": {
      "text/plain": [
       "Text(0, 0.5, 'values')"
      ]
     },
     "execution_count": 40,
     "metadata": {},
     "output_type": "execute_result"
    },
    {
     "data": {
      "image/png": "[encoded data removed]",
      "text/plain": [
       "<Figure size 432x288 with 1 Axes>"
      ]
     },
     "metadata": {
      "needs_background": "light"
     },
     "output_type": "display_data"
    }
   ],
   "source": [
    "# Distribution of Age in the Dataset \n",
    "df_concat['DRIVER_AGE_MEAN'].hist(color='red')\n",
    "\n",
    "plt.title('Driver Average Age')\n",
    "plt.xlabel('Average Age')\n",
    "plt.ylabel('values')\n"
   ]
  },
  {
   "cell_type": "markdown",
   "metadata": {},
   "source": [
    "# Logistic Regression "
   ]
  },
  {
   "cell_type": "code",
   "execution_count": null,
   "metadata": {},
   "outputs": [],
   "source": [
    "# Importing sklearn package to run logistic regression\n",
    "from sklearn.model_selection import train_test_split\n",
    "from sklearn.linear_model import LogisticRegression\n",
    "from sklearn import metrics"
   ]
  },
  {
   "cell_type": "code",
   "execution_count": null,
   "metadata": {},
   "outputs": [],
   "source": [
    "# define dependent and independent variables\n",
    "X = X1"
   ]
  },
  {
   "cell_type": "code",
   "execution_count": null,
   "metadata": {},
   "outputs": [],
   "source": [
    "# Train/Test spilt on our data having test size be 25% of the main data\n",
    "from sklearn.model_selection import train_test_split\n",
    "\n",
    "X_train,X_test,y_train,y_test=train_test_split(X,y,test_size=0.25,random_state=2019)"
   ]
  },
  {
   "cell_type": "code",
   "execution_count": null,
   "metadata": {},
   "outputs": [],
   "source": [
    "# Since the target variable is not 50/50 we are oversampling so that the target option (Churn, Yes or No) is even\n",
    "from imblearn.over_sampling import RandomOverSampler\n",
    "ros = RandomOverSampler(random_state=2019)\n",
    "X_train_resample, y_train_resample = ros.fit_resample(X_train, y_train)"
   ]
  },
  {
   "cell_type": "code",
   "execution_count": null,
   "metadata": {},
   "outputs": [],
   "source": [
    "# import the class\n",
    "from sklearn.linear_model import LogisticRegression\n",
    "\n",
    "# instantiate the model (using the default parameters)\n",
    "logreg = LogisticRegression(solver='liblinear')\n",
    "\n",
    "# fit the model with data\n",
    "logreg = logreg.fit(X_train_resample,y_train_resample)\n",
    "\n",
    "#\n",
    "y_pred=logreg.predict(X_test)"
   ]
  },
  {
   "cell_type": "code",
   "execution_count": null,
   "metadata": {},
   "outputs": [],
   "source": [
    "# import the metrics class\n",
    "from sklearn import metrics\n",
    "cnf_matrix = metrics.confusion_matrix(y_test, y_pred)\n",
    "cnf_matrix"
   ]
  },
  {
   "cell_type": "code",
   "execution_count": null,
   "metadata": {},
   "outputs": [],
   "source": [
    "\n",
    "class_names=[0,1] # name  of classes\n",
    "fig, ax = plt.subplots()\n",
    "tick_marks = np.arange(len(class_names))\n",
    "plt.xticks(tick_marks, class_names)\n",
    "plt.yticks(tick_marks, class_names)\n",
    "# create heatmap\n",
    "sns.heatmap(pd.DataFrame(cnf_matrix), annot=True, cmap=\"YlGnBu\" ,fmt='g')\n",
    "ax.xaxis.set_label_position(\"top\")\n",
    "plt.tight_layout()\n",
    "plt.title('Confusion matrix', y=1.1)\n",
    "plt.ylabel('Actual label')\n",
    "plt.xlabel('Predicted label')"
   ]
  },
  {
   "cell_type": "code",
   "execution_count": null,
   "metadata": {},
   "outputs": [],
   "source": [
    "#Model Accuracy \n",
    "print(\"Accuracy:\",metrics.accuracy_score(y_test, y_pred))\n",
    "print(\"F1_Score:\",f1_score(y_test, y_pred, average='weighted'))\n",
    "#print(\"AUC:\",roc_auc_score(y_test, y_pred)) *** This does not work"
   ]
  },
  {
   "cell_type": "code",
   "execution_count": null,
   "metadata": {},
   "outputs": [],
   "source": [
    "#Recursive Feature Elimination \n",
    "from sklearn import datasets\n",
    "from sklearn.feature_selection import RFE\n",
    "from sklearn.linear_model import LogisticRegression\n",
    "for i in range(1, X1.shape[1]+1):\n",
    "    print(i)\n",
    "    # create a base classifier used to evaluate a subset of attributes\n",
    "    model = LogisticRegression(solver='liblinear')\n",
    "    # create the RFE model and select 3 attributes; Target Variable Y2\n",
    "    rfe = RFE(model, i)\n",
    "    rfe = rfe.fit(X1, y)\n",
    "    # summarize the selection of the attributes\n",
    "    print('Model with the best', i, 'features')\n",
    "    print(dict(zip(X1.columns, rfe.ranking_)))"
   ]
  },
  {
   "cell_type": "code",
   "execution_count": null,
   "metadata": {},
   "outputs": [],
   "source": [
    "# Import Decision Tree Classifier  \n",
    "from sklearn.tree import DecisionTreeClassifier\n",
    "\n",
    "# Create Decision Tree Classifier Object \n",
    "clf = DecisionTreeClassifier()\n",
    "clf = clf.fit(X_train_resample, y_train_resample)\n",
    "\n",
    "# Predict the response for test dataset \n",
    "y_pred = clf.predict(X_test)\n",
    "\n",
    "# Model Accuracy \n",
    "print(\"Accuracy:\",metrics.accuracy_score(y_test, y_pred))\n",
    "print(\"F1_Score:\",f1_score(y_test, y_pred, average='weighted'))\n",
    "#print(\"AUC:\",roc_auc_score(y_test, y_pred))"
   ]
  },
  {
   "cell_type": "code",
   "execution_count": null,
   "metadata": {},
   "outputs": [],
   "source": [
    "from sklearn.neighbors import KNeighborsClassifier\n",
    "kneigh = KNeighborsClassifier()\n",
    "kneigh = kneigh.fit(X_train_resample, y_train_resample)\n",
    "y_pred = kneigh.predict(X_test)"
   ]
  },
  {
   "cell_type": "code",
   "execution_count": null,
   "metadata": {},
   "outputs": [],
   "source": [
    "# Model Accuracy\n",
    "print(\"Accuracy:\",metrics.accuracy_score(y_test, y_pred))\n",
    "print(\"F1_Score:\",f1_score(y_test, y_pred, average='weighted'))\n",
    "#print(\"AUC:\",roc_auc_score(y_test, y_pred))"
   ]
  },
  {
   "cell_type": "code",
   "execution_count": null,
   "metadata": {},
   "outputs": [],
   "source": [
    "from sklearn.ensemble import AdaBoostClassifier\n",
    "ADA = AdaBoostClassifier(n_estimators=70, random_state=2019)\n",
    "ADA = ADA.fit(X_train_resample, y_train_resample)\n",
    "y_pred = ADA.predict(X_test)"
   ]
  },
  {
   "cell_type": "code",
   "execution_count": null,
   "metadata": {},
   "outputs": [],
   "source": [
    "# Model Accuracy\n",
    "print(\"Accuracy:\",metrics.accuracy_score(y_test, y_pred))\n",
    "print(\"F1_Score:\",f1_score(y_test, y_pred, average='weighted'))\n",
    "#print(\"AUC:\",roc_auc_score(y_test, y_pred))"
   ]
  },
  {
   "cell_type": "code",
   "execution_count": null,
   "metadata": {},
   "outputs": [],
   "source": [
    "from imblearn.over_sampling import RandomOverSampler\n",
    "ros = RandomOverSampler(random_state=2019)\n",
    "X_resample, y_resample = ros.fit_resample(X, y)"
   ]
  },
  {
   "cell_type": "code",
   "execution_count": null,
   "metadata": {},
   "outputs": [],
   "source": [
    "#df_concat.to_csv('ImputedData', ',')"
   ]
  },
  {
   "cell_type": "code",
   "execution_count": null,
   "metadata": {},
   "outputs": [],
   "source": []
  }
 ],
 "metadata": {
  "kernelspec": {
   "display_name": "Python 3",
   "language": "python",
   "name": "python3"
  },
  "language_info": {
   "codemirror_mode": {
    "name": "ipython",
    "version": 3
   },
   "file_extension": ".py",
   "mimetype": "text/x-python",
   "name": "python",
   "nbconvert_exporter": "python",
   "pygments_lexer": "ipython3",
   "version": "3.6.7"
  }
 },
 "nbformat": 4,
 "nbformat_minor": 2
}
