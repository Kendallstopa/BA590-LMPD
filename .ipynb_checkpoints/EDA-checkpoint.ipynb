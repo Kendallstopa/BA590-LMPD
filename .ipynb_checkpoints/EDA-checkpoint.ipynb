{
 "cells": [
  {
   "cell_type": "markdown",
   "metadata": {},
   "source": [
    "# Traffic Stop Activity Result: Citation vs. Warning \n",
    "\n",
    "#### BA 590 Capstone: Business Analytics Applications - Proposal\n",
    "#### Proposed By: Kendall Stopa\n",
    "1.\tProject Background/Motivation\n",
    "    - Millions of Americans are stopped each year due to traffic violations. There are many reasons as to why one would be pulled over such as speeding, using a cellphone, not wearing a seatbelt, etc. What I want to know is what dictates the end result of a traffic stop? \n",
    "\n",
    "2.\tProblem Statement/Statement of Work\n",
    "    - What features are most strongly associated with an activity result of a citation or a warning?  \n",
    "\n",
    "3.\t Preliminary Results/Exploratory Data Analysis (see figures on page 2-3)\n",
    "    - The dataset that I will be using is information available in the Louisville Metro Police Department Vehicle Stops Database for 2015 – 2018, obtained from Data.gov. There are 111,582 rows and 18 columns in this dataset. \n",
    "\n",
    "4.\tPlanning Timeline with Milestones (start and end dates) for each phase of the project\n",
    "    - EDA and Preprocessing &nbsp;&nbsp;&nbsp;&nbsp;&nbsp;&nbsp;&nbsp;&nbsp;&nbsp;&nbsp;&nbsp; Start: 5/18 – End: 5/21\n",
    "    - Modeling &nbsp;&nbsp;&nbsp;&nbsp;&nbsp;&nbsp;&nbsp;&nbsp;&nbsp;&nbsp;&nbsp;&nbsp;&nbsp;&nbsp;&nbsp;&nbsp;&nbsp;&nbsp;&nbsp;&nbsp;&nbsp;&nbsp;&nbsp;&nbsp;&nbsp;&nbsp;&nbsp;&nbsp;&nbsp;&nbsp;&nbsp;&nbsp;&nbsp;&nbsp; Start: 5/22 – End: 6/01\n",
    "    - Geo coding &nbsp;&nbsp;&nbsp;&nbsp;&nbsp;&nbsp;&nbsp;&nbsp;&nbsp;&nbsp;&nbsp;&nbsp;&nbsp;&nbsp;&nbsp;&nbsp;&nbsp;&nbsp;&nbsp;&nbsp;&nbsp;&nbsp;&nbsp;&nbsp;&nbsp;&nbsp;&nbsp;&nbsp;&nbsp;&nbsp; Start: 6/03 – End: 6/15\n",
    "    - Concluding Project &nbsp;&nbsp;&nbsp;&nbsp;&nbsp;&nbsp;&nbsp;&nbsp;&nbsp;&nbsp;&nbsp;&nbsp;&nbsp;&nbsp;&nbsp;&nbsp;&nbsp;&nbsp; Start: 6/17 – End: 6/23\n",
    "\n",
    "5.\tSummary of expected results\n",
    "    - The expected result of this analytical project is to build multiple classification models commonly used machine learning algorithms to predict the activity result one would receive during a traffic stop and determine the most accurate predictive model to use for this data. To see which features of a traffic stop have the largest impact on predicting the activity result of a traffic stop I will be using feature selection. I will also be geocoding the location of each traffic stop to explore this data spatially and create a visualization where the activity result was given. \n",
    "\n",
    "\n",
    "6.\t Signoff from your advisor and your subject matter expert: \n",
    "    - Dr. Christopher Huntly\n",
    "    - Mike Garvey (Alumni Class of ’89, 20 years Rockland County Police Department)\n",
    "\n",
    "\n"
   ]
  },
  {
   "cell_type": "code",
   "execution_count": 1,
   "metadata": {},
   "outputs": [],
   "source": [
    "import numpy as np \n",
    "import pandas as pd\n",
    "import matplotlib.pyplot as plt\n",
    "%matplotlib inline\n",
    "plt.style.use('ggplot')"
   ]
  },
  {
   "cell_type": "code",
   "execution_count": 2,
   "metadata": {},
   "outputs": [],
   "source": [
    "#importing packages we know we will need upfront\n",
    "import seaborn as sns\n",
    "\n",
    "from scipy.stats import iqr\n",
    "\n",
    "from sklearn import preprocessing\n",
    "from sklearn.metrics import roc_auc_score\n",
    "from sklearn.metrics import f1_score"
   ]
  },
  {
   "cell_type": "code",
   "execution_count": 3,
   "metadata": {},
   "outputs": [
    {
     "data": {
      "text/html": [
       "<div>\n",
       "<style scoped>\n",
       "    .dataframe tbody tr th:only-of-type {\n",
       "        vertical-align: middle;\n",
       "    }\n",
       "\n",
       "    .dataframe tbody tr th {\n",
       "        vertical-align: top;\n",
       "    }\n",
       "\n",
       "    .dataframe thead th {\n",
       "        text-align: right;\n",
       "    }\n",
       "</style>\n",
       "<table border=\"1\" class=\"dataframe\">\n",
       "  <thead>\n",
       "    <tr style=\"text-align: right;\">\n",
       "      <th></th>\n",
       "      <th>ID</th>\n",
       "      <th>TYPE_OF_STOP</th>\n",
       "      <th>CITATION_CONTROL_NUMBER</th>\n",
       "      <th>ACTIVITY RESULTS</th>\n",
       "      <th>OFFICER_GENDER</th>\n",
       "      <th>OFFICER_RACE</th>\n",
       "      <th>OFFICER_AGE_RANGE</th>\n",
       "      <th>ACTIVITY_DATE</th>\n",
       "      <th>ACTIVITY_TIME</th>\n",
       "      <th>ACTIVITY_LOCATION</th>\n",
       "      <th>ACTIVITY_DIVISION</th>\n",
       "      <th>ACTIVITY_BEAT</th>\n",
       "      <th>DRIVER_GENDER</th>\n",
       "      <th>DRIVER_RACE</th>\n",
       "      <th>DRIVER_AGE_RANGE</th>\n",
       "      <th>NUMBER OF PASSENGERS</th>\n",
       "      <th>WAS_VEHCILE_SEARCHED</th>\n",
       "      <th>REASON_FOR_SEARCH</th>\n",
       "    </tr>\n",
       "  </thead>\n",
       "  <tbody>\n",
       "    <tr>\n",
       "      <th>0</th>\n",
       "      <td>1</td>\n",
       "      <td>NaN</td>\n",
       "      <td>NaN</td>\n",
       "      <td>WARNING</td>\n",
       "      <td>NaN</td>\n",
       "      <td>NaN</td>\n",
       "      <td>NaN</td>\n",
       "      <td>2015-01-24</td>\n",
       "      <td>NaN</td>\n",
       "      <td>NaN</td>\n",
       "      <td>NaN</td>\n",
       "      <td>NaN</td>\n",
       "      <td>NaN</td>\n",
       "      <td>NaN</td>\n",
       "      <td>NaN</td>\n",
       "      <td>0</td>\n",
       "      <td>NaN</td>\n",
       "      <td>NaN</td>\n",
       "    </tr>\n",
       "    <tr>\n",
       "      <th>1</th>\n",
       "      <td>2</td>\n",
       "      <td>NaN</td>\n",
       "      <td>NaN</td>\n",
       "      <td>WARNING</td>\n",
       "      <td>NaN</td>\n",
       "      <td>NaN</td>\n",
       "      <td>NaN</td>\n",
       "      <td>2015-01-30</td>\n",
       "      <td>NaN</td>\n",
       "      <td>NaN</td>\n",
       "      <td>NaN</td>\n",
       "      <td>NaN</td>\n",
       "      <td>NaN</td>\n",
       "      <td>NaN</td>\n",
       "      <td>NaN</td>\n",
       "      <td>0</td>\n",
       "      <td>NaN</td>\n",
       "      <td>NaN</td>\n",
       "    </tr>\n",
       "    <tr>\n",
       "      <th>2</th>\n",
       "      <td>3</td>\n",
       "      <td>NaN</td>\n",
       "      <td>NaN</td>\n",
       "      <td>WARNING</td>\n",
       "      <td>NaN</td>\n",
       "      <td>NaN</td>\n",
       "      <td>NaN</td>\n",
       "      <td>2016-09-20</td>\n",
       "      <td>NaN</td>\n",
       "      <td>NaN</td>\n",
       "      <td>NaN</td>\n",
       "      <td>NaN</td>\n",
       "      <td>NaN</td>\n",
       "      <td>NaN</td>\n",
       "      <td>NaN</td>\n",
       "      <td>0</td>\n",
       "      <td>NaN</td>\n",
       "      <td>NaN</td>\n",
       "    </tr>\n",
       "    <tr>\n",
       "      <th>3</th>\n",
       "      <td>4</td>\n",
       "      <td>NaN</td>\n",
       "      <td>NaN</td>\n",
       "      <td>WARNING</td>\n",
       "      <td>F</td>\n",
       "      <td>WHITE</td>\n",
       "      <td>21 - 30</td>\n",
       "      <td>2016-01-22</td>\n",
       "      <td>14:42:00</td>\n",
       "      <td>SHAWNEE PARK</td>\n",
       "      <td>2ND DIVISION</td>\n",
       "      <td>BEAT 1</td>\n",
       "      <td>M</td>\n",
       "      <td>BLACK</td>\n",
       "      <td>31 - 40</td>\n",
       "      <td>3</td>\n",
       "      <td>NO</td>\n",
       "      <td>NaN</td>\n",
       "    </tr>\n",
       "    <tr>\n",
       "      <th>4</th>\n",
       "      <td>5</td>\n",
       "      <td>NaN</td>\n",
       "      <td>NaN</td>\n",
       "      <td>WARNING</td>\n",
       "      <td>F</td>\n",
       "      <td>WHITE</td>\n",
       "      <td>21 - 30</td>\n",
       "      <td>2015-09-14</td>\n",
       "      <td>21:10:00</td>\n",
       "      <td>RIVERPARK/34TH</td>\n",
       "      <td>2ND DIVISION</td>\n",
       "      <td>BEAT 1</td>\n",
       "      <td>M</td>\n",
       "      <td>BLACK</td>\n",
       "      <td>20 - 25</td>\n",
       "      <td>0</td>\n",
       "      <td>YES</td>\n",
       "      <td>PROBABLE CAUSE</td>\n",
       "    </tr>\n",
       "  </tbody>\n",
       "</table>\n",
       "</div>"
      ],
      "text/plain": [
       "   ID TYPE_OF_STOP CITATION_CONTROL_NUMBER ACTIVITY RESULTS OFFICER_GENDER  \\\n",
       "0   1          NaN                     NaN          WARNING            NaN   \n",
       "1   2          NaN                     NaN          WARNING            NaN   \n",
       "2   3          NaN                     NaN          WARNING            NaN   \n",
       "3   4          NaN                     NaN          WARNING              F   \n",
       "4   5          NaN                     NaN          WARNING              F   \n",
       "\n",
       "  OFFICER_RACE OFFICER_AGE_RANGE ACTIVITY_DATE ACTIVITY_TIME  \\\n",
       "0          NaN               NaN    2015-01-24           NaN   \n",
       "1          NaN               NaN    2015-01-30           NaN   \n",
       "2          NaN               NaN    2016-09-20           NaN   \n",
       "3        WHITE           21 - 30    2016-01-22      14:42:00   \n",
       "4        WHITE           21 - 30    2015-09-14      21:10:00   \n",
       "\n",
       "  ACTIVITY_LOCATION ACTIVITY_DIVISION ACTIVITY_BEAT DRIVER_GENDER DRIVER_RACE  \\\n",
       "0               NaN               NaN           NaN           NaN         NaN   \n",
       "1               NaN               NaN           NaN           NaN         NaN   \n",
       "2               NaN               NaN           NaN           NaN         NaN   \n",
       "3      SHAWNEE PARK      2ND DIVISION        BEAT 1             M       BLACK   \n",
       "4    RIVERPARK/34TH      2ND DIVISION        BEAT 1             M       BLACK   \n",
       "\n",
       "  DRIVER_AGE_RANGE  NUMBER OF PASSENGERS WAS_VEHCILE_SEARCHED  \\\n",
       "0              NaN                     0                  NaN   \n",
       "1              NaN                     0                  NaN   \n",
       "2              NaN                     0                  NaN   \n",
       "3          31 - 40                     3                   NO   \n",
       "4          20 - 25                     0                  YES   \n",
       "\n",
       "  REASON_FOR_SEARCH  \n",
       "0               NaN  \n",
       "1               NaN  \n",
       "2               NaN  \n",
       "3               NaN  \n",
       "4    PROBABLE CAUSE  "
      ]
     },
     "execution_count": 3,
     "metadata": {},
     "output_type": "execute_result"
    }
   ],
   "source": [
    "# Uploading imputed data to df from CSV WorkingDataFrame\n",
    "df = pd.read_csv('LMPDStopsDatFrame.csv', index_col=0)\n",
    "df.head()"
   ]
  },
  {
   "cell_type": "markdown",
   "metadata": {},
   "source": [
    "# EDA #"
   ]
  },
  {
   "cell_type": "code",
   "execution_count": 4,
   "metadata": {},
   "outputs": [
    {
     "data": {
      "text/plain": [
       "(111582, 18)"
      ]
     },
     "execution_count": 4,
     "metadata": {},
     "output_type": "execute_result"
    }
   ],
   "source": [
    "df.shape"
   ]
  },
  {
   "cell_type": "code",
   "execution_count": 5,
   "metadata": {},
   "outputs": [
    {
     "name": "stdout",
     "output_type": "stream",
     "text": [
      "<class 'pandas.core.frame.DataFrame'>\n",
      "Int64Index: 111582 entries, 0 to 111581\n",
      "Data columns (total 18 columns):\n",
      "ID                         111582 non-null int64\n",
      "TYPE_OF_STOP               111455 non-null object\n",
      "CITATION_CONTROL_NUMBER    94158 non-null object\n",
      "ACTIVITY RESULTS           111582 non-null object\n",
      "OFFICER_GENDER             111426 non-null object\n",
      "OFFICER_RACE               111426 non-null object\n",
      "OFFICER_AGE_RANGE          109086 non-null object\n",
      "ACTIVITY_DATE              111582 non-null object\n",
      "ACTIVITY_TIME              111548 non-null object\n",
      "ACTIVITY_LOCATION          111443 non-null object\n",
      "ACTIVITY_DIVISION          111189 non-null object\n",
      "ACTIVITY_BEAT              111163 non-null object\n",
      "DRIVER_GENDER              111546 non-null object\n",
      "DRIVER_RACE                111550 non-null object\n",
      "DRIVER_AGE_RANGE           111554 non-null object\n",
      "NUMBER OF PASSENGERS       111582 non-null int64\n",
      "WAS_VEHCILE_SEARCHED       111579 non-null object\n",
      "REASON_FOR_SEARCH          6922 non-null object\n",
      "dtypes: int64(2), object(16)\n",
      "memory usage: 16.2+ MB\n"
     ]
    }
   ],
   "source": [
    "df.info()"
   ]
  },
  {
   "cell_type": "code",
   "execution_count": 6,
   "metadata": {},
   "outputs": [
    {
     "data": {
      "text/plain": [
       "ID                              0\n",
       "TYPE_OF_STOP                  127\n",
       "CITATION_CONTROL_NUMBER     17424\n",
       "ACTIVITY RESULTS                0\n",
       "OFFICER_GENDER                156\n",
       "OFFICER_RACE                  156\n",
       "OFFICER_AGE_RANGE            2496\n",
       "ACTIVITY_DATE                   0\n",
       "ACTIVITY_TIME                  34\n",
       "ACTIVITY_LOCATION             139\n",
       "ACTIVITY_DIVISION             393\n",
       "ACTIVITY_BEAT                 419\n",
       "DRIVER_GENDER                  36\n",
       "DRIVER_RACE                    32\n",
       "DRIVER_AGE_RANGE               28\n",
       "NUMBER OF PASSENGERS            0\n",
       "WAS_VEHCILE_SEARCHED            3\n",
       "REASON_FOR_SEARCH          104660\n",
       "dtype: int64"
      ]
     },
     "execution_count": 6,
     "metadata": {},
     "output_type": "execute_result"
    }
   ],
   "source": [
    "df.isnull().sum()"
   ]
  },
  {
   "cell_type": "code",
   "execution_count": 7,
   "metadata": {},
   "outputs": [
    {
     "data": {
      "text/plain": [
       "<matplotlib.axes._subplots.AxesSubplot at 0x7f0391ff1668>"
      ]
     },
     "execution_count": 7,
     "metadata": {},
     "output_type": "execute_result"
    },
    {
     "data": {
      "image/png": "[encoded data removed]",
      "text/plain": [
       "<Figure size 432x288 with 1 Axes>"
      ]
     },
     "metadata": {
      "needs_background": "light"
     },
     "output_type": "display_data"
    }
   ],
   "source": [
    "df['ACTIVITY RESULTS'].value_counts().plot.bar(title=\"Freq dist of Activity Results\")"
   ]
  },
  {
   "cell_type": "code",
   "execution_count": 8,
   "metadata": {},
   "outputs": [
    {
     "data": {
      "text/plain": [
       "<matplotlib.axes._subplots.AxesSubplot at 0x7f0391d24dd8>"
      ]
     },
     "execution_count": 8,
     "metadata": {},
     "output_type": "execute_result"
    },
    {
     "data": {
      "image/png": "[encoded data removed]",
      "text/plain": [
       "<Figure size 432x288 with 1 Axes>"
      ]
     },
     "metadata": {
      "needs_background": "light"
     },
     "output_type": "display_data"
    }
   ],
   "source": [
    "df['OFFICER_GENDER'].value_counts().plot.bar(title=\"Freq dist of Officer Gender\")"
   ]
  },
  {
   "cell_type": "code",
   "execution_count": 9,
   "metadata": {},
   "outputs": [
    {
     "data": {
      "text/plain": [
       "<matplotlib.axes._subplots.AxesSubplot at 0x7f0391c8dcc0>"
      ]
     },
     "execution_count": 9,
     "metadata": {},
     "output_type": "execute_result"
    },
    {
     "data": {
      "image/png": "[encoded data removed]",
      "text/plain": [
       "<Figure size 432x288 with 1 Axes>"
      ]
     },
     "metadata": {
      "needs_background": "light"
     },
     "output_type": "display_data"
    }
   ],
   "source": [
    "df['DRIVER_GENDER'].value_counts().plot.bar(title=\"Freq dist of Driver Gender\")"
   ]
  },
  {
   "cell_type": "code",
   "execution_count": 10,
   "metadata": {},
   "outputs": [
    {
     "data": {
      "text/plain": [
       "<matplotlib.axes._subplots.AxesSubplot at 0x7f0391c83438>"
      ]
     },
     "execution_count": 10,
     "metadata": {},
     "output_type": "execute_result"
    },
    {
     "data": {
      "image/png": "[encoded data removed]",
      "text/plain": [
       "<Figure size 432x288 with 1 Axes>"
      ]
     },
     "metadata": {
      "needs_background": "light"
     },
     "output_type": "display_data"
    }
   ],
   "source": [
    "df['OFFICER_AGE_RANGE'].value_counts().plot.bar(title=\"Freq dist of Officer Age Range \")"
   ]
  },
  {
   "cell_type": "code",
   "execution_count": 11,
   "metadata": {},
   "outputs": [
    {
     "data": {
      "text/plain": [
       "<matplotlib.axes._subplots.AxesSubplot at 0x7f0391be8128>"
      ]
     },
     "execution_count": 11,
     "metadata": {},
     "output_type": "execute_result"
    },
    {
     "data": {
      "image/png": "[encoded data removed]",
      "text/plain": [
       "<Figure size 432x288 with 1 Axes>"
      ]
     },
     "metadata": {
      "needs_background": "light"
     },
     "output_type": "display_data"
    }
   ],
   "source": [
    "df['DRIVER_AGE_RANGE'].value_counts().plot.bar(title=\"Freq dist of Officer Driver Range \")"
   ]
  },
  {
   "cell_type": "code",
   "execution_count": 12,
   "metadata": {},
   "outputs": [
    {
     "data": {
      "text/plain": [
       "Text(0.5, 1.0, 'Officer Age versus Activity Result')"
      ]
     },
     "execution_count": 12,
     "metadata": {},
     "output_type": "execute_result"
    },
    {
     "data": {
      "image/png": "[encoded data removed]",
      "text/plain": [
       "<Figure size 432x288 with 1 Axes>"
      ]
     },
     "metadata": {
      "needs_background": "light"
     },
     "output_type": "display_data"
    }
   ],
   "source": [
    "test7 = df.groupby(['OFFICER_AGE_RANGE', 'ACTIVITY RESULTS'])['DRIVER_AGE_RANGE'].count().unstack('ACTIVITY RESULTS').fillna(0)\n",
    "test7.plot(kind='bar', stacked=True)\n",
    "plt.xticks(rotation='horizontal')\n",
    "plt.legend()\n",
    "plt.title('Officer Age versus Activity Result')"
   ]
  },
  {
   "cell_type": "code",
   "execution_count": 13,
   "metadata": {},
   "outputs": [
    {
     "data": {
      "text/plain": [
       "Text(0.5, 1.0, 'Driver Age versus Activity Result')"
      ]
     },
     "execution_count": 13,
     "metadata": {},
     "output_type": "execute_result"
    },
    {
     "data": {
      "image/png": "[encoded data removed]",
      "text/plain": [
       "<Figure size 432x288 with 1 Axes>"
      ]
     },
     "metadata": {
      "needs_background": "light"
     },
     "output_type": "display_data"
    }
   ],
   "source": [
    "test7 = df.groupby(['DRIVER_AGE_RANGE', 'ACTIVITY RESULTS'])['DRIVER_AGE_RANGE'].count().unstack('ACTIVITY RESULTS').fillna(0)\n",
    "test7.plot(kind='bar', stacked=True)\n",
    "plt.xticks(rotation='horizontal')\n",
    "plt.legend()\n",
    "plt.title('Driver Age versus Activity Result')"
   ]
  },
  {
   "cell_type": "code",
   "execution_count": 14,
   "metadata": {},
   "outputs": [
    {
     "data": {
      "text/plain": [
       "Text(0.5, 1.0, 'Driver Gender versus Activity Result')"
      ]
     },
     "execution_count": 14,
     "metadata": {},
     "output_type": "execute_result"
    },
    {
     "data": {
      "image/png": "[encoded data removed]",
      "text/plain": [
       "<Figure size 432x288 with 1 Axes>"
      ]
     },
     "metadata": {
      "needs_background": "light"
     },
     "output_type": "display_data"
    }
   ],
   "source": [
    "test7 = df.groupby(['DRIVER_GENDER', 'ACTIVITY RESULTS'])['DRIVER_GENDER'].count().unstack('ACTIVITY RESULTS').fillna(0)\n",
    "test7.plot(kind='bar', stacked=True)\n",
    "plt.xticks(rotation='horizontal')\n",
    "plt.legend()\n",
    "plt.title('Driver Gender versus Activity Result')"
   ]
  },
  {
   "cell_type": "code",
   "execution_count": 15,
   "metadata": {},
   "outputs": [
    {
     "data": {
      "text/plain": [
       "array([nan, '2ND DIVISION', '3RD DIVISION', '5TH DIVISION',\n",
       "       '4TH DIVISION', '6TH DIVISION', '7TH DIVISION', '8TH DIVISION',\n",
       "       '1ST DIVISION', 'NON LMPD', ' '], dtype=object)"
      ]
     },
     "execution_count": 15,
     "metadata": {},
     "output_type": "execute_result"
    }
   ],
   "source": [
    "df['ACTIVITY_DIVISION'].unique()"
   ]
  },
  {
   "cell_type": "code",
   "execution_count": null,
   "metadata": {},
   "outputs": [],
   "source": []
  },
  {
   "cell_type": "code",
   "execution_count": null,
   "metadata": {},
   "outputs": [],
   "source": []
  }
 ],
 "metadata": {
  "kernelspec": {
   "display_name": "Python 3",
   "language": "python",
   "name": "python3"
  },
  "language_info": {
   "codemirror_mode": {
    "name": "ipython",
    "version": 3
   },
   "file_extension": ".py",
   "mimetype": "text/x-python",
   "name": "python",
   "nbconvert_exporter": "python",
   "pygments_lexer": "ipython3",
   "version": "3.6.7"
  }
 },
 "nbformat": 4,
 "nbformat_minor": 2
}
