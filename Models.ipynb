{
 "cells": [
  {
   "cell_type": "code",
   "execution_count": 1,
   "metadata": {},
   "outputs": [],
   "source": [
    "import numpy as np \n",
    "import pandas as pd\n",
    "import matplotlib.pyplot as plt\n",
    "%matplotlib inline\n",
    "plt.style.use('ggplot')"
   ]
  },
  {
   "cell_type": "code",
   "execution_count": 2,
   "metadata": {},
   "outputs": [],
   "source": [
    "#importing packages we know we will need upfront\n",
    "import seaborn as sns\n",
    "\n",
    "from scipy.stats import iqr\n",
    "\n",
    "from sklearn import preprocessing\n",
    "from sklearn.metrics import roc_auc_score\n",
    "from sklearn.metrics import f1_score"
   ]
  },
  {
   "cell_type": "code",
   "execution_count": 3,
   "metadata": {},
   "outputs": [
    {
     "data": {
      "text/html": [
       "<div>\n",
       "<style scoped>\n",
       "    .dataframe tbody tr th:only-of-type {\n",
       "        vertical-align: middle;\n",
       "    }\n",
       "\n",
       "    .dataframe tbody tr th {\n",
       "        vertical-align: top;\n",
       "    }\n",
       "\n",
       "    .dataframe thead th {\n",
       "        text-align: right;\n",
       "    }\n",
       "</style>\n",
       "<table border=\"1\" class=\"dataframe\">\n",
       "  <thead>\n",
       "    <tr style=\"text-align: right;\">\n",
       "      <th></th>\n",
       "      <th>ID</th>\n",
       "      <th>TYPE_OF_STOP</th>\n",
       "      <th>CITATION_CONTROL_NUMBER</th>\n",
       "      <th>ACTIVITY RESULTS</th>\n",
       "      <th>OFFICER_GENDER</th>\n",
       "      <th>OFFICER_RACE</th>\n",
       "      <th>OFFICER_AGE_RANGE</th>\n",
       "      <th>ACTIVITY_DATE</th>\n",
       "      <th>ACTIVITY_TIME</th>\n",
       "      <th>ACTIVITY_LOCATION</th>\n",
       "      <th>...</th>\n",
       "      <th>REASON_FOR_SEARCH</th>\n",
       "      <th>ACTIVITY_MONTH_YEAR</th>\n",
       "      <th>ACTIVITY_MONTH</th>\n",
       "      <th>ACTIVITY_DAY</th>\n",
       "      <th>ACTIVITY_YEAR</th>\n",
       "      <th>OFFICER_AGE_MEAN</th>\n",
       "      <th>DRIVER_AGE_MEAN</th>\n",
       "      <th>TIME_AM/PM</th>\n",
       "      <th>SESSION</th>\n",
       "      <th>DIVISION_ZIP</th>\n",
       "    </tr>\n",
       "  </thead>\n",
       "  <tbody>\n",
       "    <tr>\n",
       "      <th>0</th>\n",
       "      <td>1</td>\n",
       "      <td>TRAFFIC VIOLATION</td>\n",
       "      <td>0</td>\n",
       "      <td>0</td>\n",
       "      <td>M</td>\n",
       "      <td>WHITE</td>\n",
       "      <td>40 - 50</td>\n",
       "      <td>2015-01-24 00:00:00</td>\n",
       "      <td>2019-06-11 22:00:00</td>\n",
       "      <td>DIXIE HWY                                     ...</td>\n",
       "      <td>...</td>\n",
       "      <td>CONSENT</td>\n",
       "      <td>01/15</td>\n",
       "      <td>1</td>\n",
       "      <td>24</td>\n",
       "      <td>15</td>\n",
       "      <td>45.0</td>\n",
       "      <td>35.5</td>\n",
       "      <td>10:00 PM</td>\n",
       "      <td>Evening</td>\n",
       "      <td>40228</td>\n",
       "    </tr>\n",
       "    <tr>\n",
       "      <th>1</th>\n",
       "      <td>2</td>\n",
       "      <td>TRAFFIC VIOLATION</td>\n",
       "      <td>0</td>\n",
       "      <td>0</td>\n",
       "      <td>M</td>\n",
       "      <td>WHITE</td>\n",
       "      <td>40 - 50</td>\n",
       "      <td>2015-01-30 00:00:00</td>\n",
       "      <td>2019-06-11 22:00:00</td>\n",
       "      <td>DIXIE HWY                                     ...</td>\n",
       "      <td>...</td>\n",
       "      <td>CONSENT</td>\n",
       "      <td>01/15</td>\n",
       "      <td>1</td>\n",
       "      <td>30</td>\n",
       "      <td>15</td>\n",
       "      <td>45.0</td>\n",
       "      <td>35.5</td>\n",
       "      <td>10:00 PM</td>\n",
       "      <td>Evening</td>\n",
       "      <td>40228</td>\n",
       "    </tr>\n",
       "    <tr>\n",
       "      <th>2</th>\n",
       "      <td>3</td>\n",
       "      <td>TRAFFIC VIOLATION</td>\n",
       "      <td>0</td>\n",
       "      <td>0</td>\n",
       "      <td>M</td>\n",
       "      <td>WHITE</td>\n",
       "      <td>40 - 50</td>\n",
       "      <td>2016-09-20 00:00:00</td>\n",
       "      <td>2019-06-11 22:00:00</td>\n",
       "      <td>DIXIE HWY                                     ...</td>\n",
       "      <td>...</td>\n",
       "      <td>CONSENT</td>\n",
       "      <td>09/16</td>\n",
       "      <td>9</td>\n",
       "      <td>20</td>\n",
       "      <td>16</td>\n",
       "      <td>45.0</td>\n",
       "      <td>35.5</td>\n",
       "      <td>10:00 PM</td>\n",
       "      <td>Evening</td>\n",
       "      <td>40228</td>\n",
       "    </tr>\n",
       "    <tr>\n",
       "      <th>3</th>\n",
       "      <td>4</td>\n",
       "      <td>TRAFFIC VIOLATION</td>\n",
       "      <td>0</td>\n",
       "      <td>0</td>\n",
       "      <td>F</td>\n",
       "      <td>WHITE</td>\n",
       "      <td>21 - 30</td>\n",
       "      <td>2016-01-22 00:00:00</td>\n",
       "      <td>2019-06-11 14:42:00</td>\n",
       "      <td>SHAWNEE PARK</td>\n",
       "      <td>...</td>\n",
       "      <td>CONSENT</td>\n",
       "      <td>01/16</td>\n",
       "      <td>1</td>\n",
       "      <td>22</td>\n",
       "      <td>16</td>\n",
       "      <td>25.5</td>\n",
       "      <td>35.5</td>\n",
       "      <td>02:42 PM</td>\n",
       "      <td>Afternoon</td>\n",
       "      <td>40211</td>\n",
       "    </tr>\n",
       "    <tr>\n",
       "      <th>4</th>\n",
       "      <td>5</td>\n",
       "      <td>TRAFFIC VIOLATION</td>\n",
       "      <td>0</td>\n",
       "      <td>0</td>\n",
       "      <td>F</td>\n",
       "      <td>WHITE</td>\n",
       "      <td>21 - 30</td>\n",
       "      <td>2015-09-14 00:00:00</td>\n",
       "      <td>2019-06-11 21:10:00</td>\n",
       "      <td>RIVERPARK/34TH</td>\n",
       "      <td>...</td>\n",
       "      <td>PROBABLE CAUSE</td>\n",
       "      <td>09/15</td>\n",
       "      <td>9</td>\n",
       "      <td>14</td>\n",
       "      <td>15</td>\n",
       "      <td>25.5</td>\n",
       "      <td>22.5</td>\n",
       "      <td>09:10 PM</td>\n",
       "      <td>Evening</td>\n",
       "      <td>40211</td>\n",
       "    </tr>\n",
       "  </tbody>\n",
       "</table>\n",
       "<p>5 rows × 27 columns</p>\n",
       "</div>"
      ],
      "text/plain": [
       "   ID       TYPE_OF_STOP CITATION_CONTROL_NUMBER  ACTIVITY RESULTS  \\\n",
       "0   1  TRAFFIC VIOLATION                       0                 0   \n",
       "1   2  TRAFFIC VIOLATION                       0                 0   \n",
       "2   3  TRAFFIC VIOLATION                       0                 0   \n",
       "3   4  TRAFFIC VIOLATION                       0                 0   \n",
       "4   5  TRAFFIC VIOLATION                       0                 0   \n",
       "\n",
       "  OFFICER_GENDER OFFICER_RACE OFFICER_AGE_RANGE        ACTIVITY_DATE  \\\n",
       "0              M        WHITE           40 - 50  2015-01-24 00:00:00   \n",
       "1              M        WHITE           40 - 50  2015-01-30 00:00:00   \n",
       "2              M        WHITE           40 - 50  2016-09-20 00:00:00   \n",
       "3              F        WHITE           21 - 30  2016-01-22 00:00:00   \n",
       "4              F        WHITE           21 - 30  2015-09-14 00:00:00   \n",
       "\n",
       "         ACTIVITY_TIME                                  ACTIVITY_LOCATION  \\\n",
       "0  2019-06-11 22:00:00  DIXIE HWY                                     ...   \n",
       "1  2019-06-11 22:00:00  DIXIE HWY                                     ...   \n",
       "2  2019-06-11 22:00:00  DIXIE HWY                                     ...   \n",
       "3  2019-06-11 14:42:00                                       SHAWNEE PARK   \n",
       "4  2019-06-11 21:10:00                                     RIVERPARK/34TH   \n",
       "\n",
       "       ...      REASON_FOR_SEARCH ACTIVITY_MONTH_YEAR ACTIVITY_MONTH  \\\n",
       "0      ...                CONSENT               01/15              1   \n",
       "1      ...                CONSENT               01/15              1   \n",
       "2      ...                CONSENT               09/16              9   \n",
       "3      ...                CONSENT               01/16              1   \n",
       "4      ...         PROBABLE CAUSE               09/15              9   \n",
       "\n",
       "  ACTIVITY_DAY ACTIVITY_YEAR  OFFICER_AGE_MEAN DRIVER_AGE_MEAN TIME_AM/PM  \\\n",
       "0           24            15              45.0            35.5   10:00 PM   \n",
       "1           30            15              45.0            35.5   10:00 PM   \n",
       "2           20            16              45.0            35.5   10:00 PM   \n",
       "3           22            16              25.5            35.5   02:42 PM   \n",
       "4           14            15              25.5            22.5   09:10 PM   \n",
       "\n",
       "     SESSION  DIVISION_ZIP  \n",
       "0    Evening         40228  \n",
       "1    Evening         40228  \n",
       "2    Evening         40228  \n",
       "3  Afternoon         40211  \n",
       "4    Evening         40211  \n",
       "\n",
       "[5 rows x 27 columns]"
      ]
     },
     "execution_count": 3,
     "metadata": {},
     "output_type": "execute_result"
    }
   ],
   "source": [
    "# Using Target table with \"Y\" values beacuse we are dealing with categorical data \n",
    "df2 = pd.read_csv('ImputedData', index_col=0)\n",
    "df2.head()"
   ]
  },
  {
   "cell_type": "code",
   "execution_count": 4,
   "metadata": {},
   "outputs": [],
   "source": [
    "X1 = df2.filter(['TYPE_OF_STOP', 'OFFICER_GENDER', 'DRIVER_GENDER', 'ACTIVITY_BEAT', 'OFFICER_AGE_RANGE', 'DRIVER_AGE_RANGE',\n",
    "       'WAS_VEHCILE_SEARCHED', 'NUMBER OF PASSENGERS', 'ACTIVITY_DIVISION'])\n",
    "X2 = df2.filter(['ID', 'CITATION_CONTROL_NUMBER', 'ACTIVITY_DATE', 'ACTIVITY_MONTH_YEAR', 'ACTIVITY_MONTH', 'ACTIVITY_DAY', 'ACTIVITY_YEAR',\n",
    "                 'ACTIVITY_TIME', 'ACTIVITY_LOCATION', \n",
    "         'REASON_FOR_SEARCH',  'OFFICER_AGE_MEAN', 'DRIVER_AGE_MEAN',\n",
    "                'TIME_AM/PM', 'SESSION', 'DIVISION_ZIP'])\n",
    "\n",
    "y = df2.iloc[:, 3]"
   ]
  },
  {
   "cell_type": "code",
   "execution_count": 5,
   "metadata": {},
   "outputs": [],
   "source": [
    "X1 = pd.get_dummies(X1)"
   ]
  },
  {
   "cell_type": "code",
   "execution_count": 6,
   "metadata": {},
   "outputs": [
    {
     "data": {
      "text/html": [
       "<div>\n",
       "<style scoped>\n",
       "    .dataframe tbody tr th:only-of-type {\n",
       "        vertical-align: middle;\n",
       "    }\n",
       "\n",
       "    .dataframe tbody tr th {\n",
       "        vertical-align: top;\n",
       "    }\n",
       "\n",
       "    .dataframe thead th {\n",
       "        text-align: right;\n",
       "    }\n",
       "</style>\n",
       "<table border=\"1\" class=\"dataframe\">\n",
       "  <thead>\n",
       "    <tr style=\"text-align: right;\">\n",
       "      <th></th>\n",
       "      <th>NUMBER OF PASSENGERS</th>\n",
       "      <th>TYPE_OF_STOP_COMPLAINT/CRIMINAL VIOLATION</th>\n",
       "      <th>TYPE_OF_STOP_COMPLIANCE STOP (KVE ONLY)</th>\n",
       "      <th>TYPE_OF_STOP_TRAFFIC VIOLATION</th>\n",
       "      <th>OFFICER_GENDER_F</th>\n",
       "      <th>OFFICER_GENDER_M</th>\n",
       "      <th>DRIVER_GENDER_F</th>\n",
       "      <th>DRIVER_GENDER_M</th>\n",
       "      <th>ACTIVITY_BEAT_BEAT 1</th>\n",
       "      <th>ACTIVITY_BEAT_BEAT 2</th>\n",
       "      <th>...</th>\n",
       "      <th>ACTIVITY_DAY</th>\n",
       "      <th>ACTIVITY_YEAR</th>\n",
       "      <th>ACTIVITY_TIME</th>\n",
       "      <th>ACTIVITY_LOCATION</th>\n",
       "      <th>REASON_FOR_SEARCH</th>\n",
       "      <th>OFFICER_AGE_MEAN</th>\n",
       "      <th>DRIVER_AGE_MEAN</th>\n",
       "      <th>TIME_AM/PM</th>\n",
       "      <th>SESSION</th>\n",
       "      <th>DIVISION_ZIP</th>\n",
       "    </tr>\n",
       "  </thead>\n",
       "  <tbody>\n",
       "    <tr>\n",
       "      <th>0</th>\n",
       "      <td>0</td>\n",
       "      <td>0</td>\n",
       "      <td>0</td>\n",
       "      <td>1</td>\n",
       "      <td>0</td>\n",
       "      <td>1</td>\n",
       "      <td>0</td>\n",
       "      <td>1</td>\n",
       "      <td>0</td>\n",
       "      <td>1</td>\n",
       "      <td>...</td>\n",
       "      <td>24</td>\n",
       "      <td>15</td>\n",
       "      <td>2019-06-11 22:00:00</td>\n",
       "      <td>DIXIE HWY                                     ...</td>\n",
       "      <td>CONSENT</td>\n",
       "      <td>45.0</td>\n",
       "      <td>35.5</td>\n",
       "      <td>10:00 PM</td>\n",
       "      <td>Evening</td>\n",
       "      <td>40228</td>\n",
       "    </tr>\n",
       "    <tr>\n",
       "      <th>1</th>\n",
       "      <td>0</td>\n",
       "      <td>0</td>\n",
       "      <td>0</td>\n",
       "      <td>1</td>\n",
       "      <td>0</td>\n",
       "      <td>1</td>\n",
       "      <td>0</td>\n",
       "      <td>1</td>\n",
       "      <td>0</td>\n",
       "      <td>1</td>\n",
       "      <td>...</td>\n",
       "      <td>30</td>\n",
       "      <td>15</td>\n",
       "      <td>2019-06-11 22:00:00</td>\n",
       "      <td>DIXIE HWY                                     ...</td>\n",
       "      <td>CONSENT</td>\n",
       "      <td>45.0</td>\n",
       "      <td>35.5</td>\n",
       "      <td>10:00 PM</td>\n",
       "      <td>Evening</td>\n",
       "      <td>40228</td>\n",
       "    </tr>\n",
       "    <tr>\n",
       "      <th>2</th>\n",
       "      <td>0</td>\n",
       "      <td>0</td>\n",
       "      <td>0</td>\n",
       "      <td>1</td>\n",
       "      <td>0</td>\n",
       "      <td>1</td>\n",
       "      <td>0</td>\n",
       "      <td>1</td>\n",
       "      <td>0</td>\n",
       "      <td>1</td>\n",
       "      <td>...</td>\n",
       "      <td>20</td>\n",
       "      <td>16</td>\n",
       "      <td>2019-06-11 22:00:00</td>\n",
       "      <td>DIXIE HWY                                     ...</td>\n",
       "      <td>CONSENT</td>\n",
       "      <td>45.0</td>\n",
       "      <td>35.5</td>\n",
       "      <td>10:00 PM</td>\n",
       "      <td>Evening</td>\n",
       "      <td>40228</td>\n",
       "    </tr>\n",
       "    <tr>\n",
       "      <th>3</th>\n",
       "      <td>3</td>\n",
       "      <td>0</td>\n",
       "      <td>0</td>\n",
       "      <td>1</td>\n",
       "      <td>1</td>\n",
       "      <td>0</td>\n",
       "      <td>0</td>\n",
       "      <td>1</td>\n",
       "      <td>1</td>\n",
       "      <td>0</td>\n",
       "      <td>...</td>\n",
       "      <td>22</td>\n",
       "      <td>16</td>\n",
       "      <td>2019-06-11 14:42:00</td>\n",
       "      <td>SHAWNEE PARK</td>\n",
       "      <td>CONSENT</td>\n",
       "      <td>25.5</td>\n",
       "      <td>35.5</td>\n",
       "      <td>02:42 PM</td>\n",
       "      <td>Afternoon</td>\n",
       "      <td>40211</td>\n",
       "    </tr>\n",
       "    <tr>\n",
       "      <th>4</th>\n",
       "      <td>0</td>\n",
       "      <td>0</td>\n",
       "      <td>0</td>\n",
       "      <td>1</td>\n",
       "      <td>1</td>\n",
       "      <td>0</td>\n",
       "      <td>0</td>\n",
       "      <td>1</td>\n",
       "      <td>1</td>\n",
       "      <td>0</td>\n",
       "      <td>...</td>\n",
       "      <td>14</td>\n",
       "      <td>15</td>\n",
       "      <td>2019-06-11 21:10:00</td>\n",
       "      <td>RIVERPARK/34TH</td>\n",
       "      <td>PROBABLE CAUSE</td>\n",
       "      <td>25.5</td>\n",
       "      <td>22.5</td>\n",
       "      <td>09:10 PM</td>\n",
       "      <td>Evening</td>\n",
       "      <td>40211</td>\n",
       "    </tr>\n",
       "  </tbody>\n",
       "</table>\n",
       "<p>5 rows × 56 columns</p>\n",
       "</div>"
      ],
      "text/plain": [
       "   NUMBER OF PASSENGERS  TYPE_OF_STOP_COMPLAINT/CRIMINAL VIOLATION  \\\n",
       "0                     0                                          0   \n",
       "1                     0                                          0   \n",
       "2                     0                                          0   \n",
       "3                     3                                          0   \n",
       "4                     0                                          0   \n",
       "\n",
       "   TYPE_OF_STOP_COMPLIANCE STOP (KVE ONLY)  TYPE_OF_STOP_TRAFFIC VIOLATION  \\\n",
       "0                                        0                               1   \n",
       "1                                        0                               1   \n",
       "2                                        0                               1   \n",
       "3                                        0                               1   \n",
       "4                                        0                               1   \n",
       "\n",
       "   OFFICER_GENDER_F  OFFICER_GENDER_M  DRIVER_GENDER_F  DRIVER_GENDER_M  \\\n",
       "0                 0                 1                0                1   \n",
       "1                 0                 1                0                1   \n",
       "2                 0                 1                0                1   \n",
       "3                 1                 0                0                1   \n",
       "4                 1                 0                0                1   \n",
       "\n",
       "   ACTIVITY_BEAT_BEAT 1  ACTIVITY_BEAT_BEAT 2      ...       ACTIVITY_DAY  \\\n",
       "0                     0                     1      ...                 24   \n",
       "1                     0                     1      ...                 30   \n",
       "2                     0                     1      ...                 20   \n",
       "3                     1                     0      ...                 22   \n",
       "4                     1                     0      ...                 14   \n",
       "\n",
       "   ACTIVITY_YEAR        ACTIVITY_TIME  \\\n",
       "0             15  2019-06-11 22:00:00   \n",
       "1             15  2019-06-11 22:00:00   \n",
       "2             16  2019-06-11 22:00:00   \n",
       "3             16  2019-06-11 14:42:00   \n",
       "4             15  2019-06-11 21:10:00   \n",
       "\n",
       "                                   ACTIVITY_LOCATION  REASON_FOR_SEARCH  \\\n",
       "0  DIXIE HWY                                     ...            CONSENT   \n",
       "1  DIXIE HWY                                     ...            CONSENT   \n",
       "2  DIXIE HWY                                     ...            CONSENT   \n",
       "3                                       SHAWNEE PARK            CONSENT   \n",
       "4                                     RIVERPARK/34TH     PROBABLE CAUSE   \n",
       "\n",
       "   OFFICER_AGE_MEAN  DRIVER_AGE_MEAN  TIME_AM/PM    SESSION  DIVISION_ZIP  \n",
       "0              45.0             35.5    10:00 PM    Evening         40228  \n",
       "1              45.0             35.5    10:00 PM    Evening         40228  \n",
       "2              45.0             35.5    10:00 PM    Evening         40228  \n",
       "3              25.5             35.5    02:42 PM  Afternoon         40211  \n",
       "4              25.5             22.5    09:10 PM    Evening         40211  \n",
       "\n",
       "[5 rows x 56 columns]"
      ]
     },
     "execution_count": 6,
     "metadata": {},
     "output_type": "execute_result"
    }
   ],
   "source": [
    "df_concat = pd.concat([X1, X2], axis=1, sort=False)\n",
    "df_concat.head()"
   ]
  },
  {
   "cell_type": "markdown",
   "metadata": {},
   "source": [
    "# Logistic Regression "
   ]
  },
  {
   "cell_type": "code",
   "execution_count": 7,
   "metadata": {},
   "outputs": [],
   "source": [
    "# Importing sklearn package to run logistic regression\n",
    "from sklearn.model_selection import train_test_split\n",
    "from sklearn.linear_model import LogisticRegression\n",
    "from sklearn import metrics"
   ]
  },
  {
   "cell_type": "code",
   "execution_count": 8,
   "metadata": {},
   "outputs": [],
   "source": [
    "# define dependent and independent variables\n",
    "X = X1"
   ]
  },
  {
   "cell_type": "code",
   "execution_count": 9,
   "metadata": {},
   "outputs": [],
   "source": [
    "# Train/Test spilt on our data having test size be 25% of the main data\n",
    "from sklearn.model_selection import train_test_split\n",
    "\n",
    "X_train,X_test,y_train,y_test=train_test_split(X,y,test_size=0.25,random_state=2019)"
   ]
  },
  {
   "cell_type": "code",
   "execution_count": 10,
   "metadata": {},
   "outputs": [
    {
     "name": "stderr",
     "output_type": "stream",
     "text": [
      "/opt/tljh/user/lib/python3.6/site-packages/sklearn/externals/six.py:31: DeprecationWarning: The module is deprecated in version 0.21 and will be removed in version 0.23 since we've dropped support for Python 2.7. Please rely on the official version of six (https://pypi.org/project/six/).\n",
      "  \"(https://pypi.org/project/six/).\", DeprecationWarning)\n"
     ]
    }
   ],
   "source": [
    "# Since the target variable is not 50/50 we are oversampling so that the target option (Churn, Yes or No) is even\n",
    "from imblearn.over_sampling import RandomOverSampler\n",
    "ros = RandomOverSampler(random_state=2019)\n",
    "X_train_resample, y_train_resample = ros.fit_resample(X_train, y_train)"
   ]
  },
  {
   "cell_type": "code",
   "execution_count": 11,
   "metadata": {},
   "outputs": [],
   "source": [
    "# import the class\n",
    "from sklearn.linear_model import LogisticRegression\n",
    "\n",
    "# instantiate the model (using the default parameters)\n",
    "logreg = LogisticRegression(solver='liblinear')\n",
    "\n",
    "# fit the model with data\n",
    "logreg = logreg.fit(X_train_resample,y_train_resample)\n",
    "\n",
    "#\n",
    "y_pred=logreg.predict(X_test)"
   ]
  },
  {
   "cell_type": "code",
   "execution_count": 12,
   "metadata": {},
   "outputs": [
    {
     "data": {
      "text/plain": [
       "array([[ 5316,  1832],\n",
       "       [ 3194, 17554]])"
      ]
     },
     "execution_count": 12,
     "metadata": {},
     "output_type": "execute_result"
    }
   ],
   "source": [
    "# import the metrics class\n",
    "from sklearn import metrics\n",
    "cnf_matrix = metrics.confusion_matrix(y_test, y_pred)\n",
    "cnf_matrix"
   ]
  },
  {
   "cell_type": "code",
   "execution_count": 13,
   "metadata": {},
   "outputs": [
    {
     "data": {
      "text/plain": [
       "Text(0.5, 257.44, 'Predicted label')"
      ]
     },
     "execution_count": 13,
     "metadata": {},
     "output_type": "execute_result"
    },
    {
     "data": {
      "image/png": "[encoded data removed]",
      "text/plain": [
       "<Figure size 432x288 with 2 Axes>"
      ]
     },
     "metadata": {
      "needs_background": "light"
     },
     "output_type": "display_data"
    }
   ],
   "source": [
    "class_names=[0,1] # name  of classes\n",
    "fig, ax = plt.subplots()\n",
    "tick_marks = np.arange(len(class_names))\n",
    "plt.xticks(tick_marks, class_names)\n",
    "plt.yticks(tick_marks, class_names)\n",
    "# create heatmap\n",
    "sns.heatmap(pd.DataFrame(cnf_matrix), annot=True, cmap=\"YlGnBu\" ,fmt='g')\n",
    "ax.xaxis.set_label_position(\"top\")\n",
    "plt.tight_layout()\n",
    "plt.title('Confusion matrix', y=1.1)\n",
    "plt.ylabel('Actual label')\n",
    "plt.xlabel('Predicted label')"
   ]
  },
  {
   "cell_type": "code",
   "execution_count": 14,
   "metadata": {},
   "outputs": [
    {
     "name": "stdout",
     "output_type": "stream",
     "text": [
      "Accuracy: 0.8198308001147118\n",
      "F1_Score: 0.8246096057952119\n",
      "AUC: 0.7948809920285195\n"
     ]
    }
   ],
   "source": [
    "#Model Accuracy \n",
    "print(\"Accuracy:\",metrics.accuracy_score(y_test, y_pred))\n",
    "print(\"F1_Score:\",f1_score(y_test, y_pred, average='weighted'))\n",
    "print(\"AUC:\",roc_auc_score(y_test, y_pred)) "
   ]
  },
  {
   "cell_type": "code",
   "execution_count": 15,
   "metadata": {},
   "outputs": [
    {
     "data": {
      "image/png": "[encoded data removed]",
      "text/plain": [
       "<Figure size 432x288 with 1 Axes>"
      ]
     },
     "metadata": {
      "needs_background": "light"
     },
     "output_type": "display_data"
    }
   ],
   "source": [
    "#ROC Curve\n",
    "#Receiver Operating Characteristic(ROC) curve is a plot of the true positive rate against the false positive rate\n",
    "#It shows the tradeoff between sensitivity and specificity.\n",
    "#It tells how much model is capable of distinguishing between classes.\n",
    "\n",
    "y_pred_proba = logreg.predict_proba(X_test)[::,1]\n",
    "fpr, tpr, _ = metrics.roc_curve(y_test,  y_pred_proba)\n",
    "auc = metrics.roc_auc_score(y_test, y_pred_proba)\n",
    "plt.plot(fpr,tpr,label=\"LMPD Data, auc=\"+str(auc))\n",
    "plt.legend(loc=4)\n",
    "plt.show()"
   ]
  },
  {
   "cell_type": "code",
   "execution_count": 16,
   "metadata": {},
   "outputs": [
    {
     "name": "stdout",
     "output_type": "stream",
     "text": [
      "Model with the best 1 features\n",
      "{'NUMBER OF PASSENGERS': 27, 'TYPE_OF_STOP_COMPLAINT/CRIMINAL VIOLATION': 20, 'TYPE_OF_STOP_COMPLIANCE STOP (KVE ONLY)': 2, 'TYPE_OF_STOP_TRAFFIC VIOLATION': 7, 'OFFICER_GENDER_F': 39, 'OFFICER_GENDER_M': 37, 'DRIVER_GENDER_F': 36, 'DRIVER_GENDER_M': 26, 'ACTIVITY_BEAT_BEAT 1': 10, 'ACTIVITY_BEAT_BEAT 2': 29, 'ACTIVITY_BEAT_BEAT 3': 38, 'ACTIVITY_BEAT_BEAT 4': 28, 'ACTIVITY_BEAT_BEAT 5': 41, 'ACTIVITY_BEAT_BEAT 6': 25, 'ACTIVITY_BEAT_BEAT 7': 3, 'ACTIVITY_BEAT_NON LM': 5, 'OFFICER_AGE_RANGE_21 - 30': 4, 'OFFICER_AGE_RANGE_31 - 40': 6, 'OFFICER_AGE_RANGE_40 - 50': 11, 'OFFICER_AGE_RANGE_50 - 60': 9, 'OFFICER_AGE_RANGE_61 - 70': 12, 'DRIVER_AGE_RANGE_15 - 10': 13, 'DRIVER_AGE_RANGE_16 - 19': 35, 'DRIVER_AGE_RANGE_20 - 25': 32, 'DRIVER_AGE_RANGE_26 - 30': 34, 'DRIVER_AGE_RANGE_31 - 40': 31, 'DRIVER_AGE_RANGE_41 - 50': 40, 'DRIVER_AGE_RANGE_51 - 60': 33, 'DRIVER_AGE_RANGE_61 - 70': 30, 'WAS_VEHCILE_SEARCHED_NO': 15, 'WAS_VEHCILE_SEARCHED_YES': 21, 'ACTIVITY_DIVISION_1ST DIVISION': 22, 'ACTIVITY_DIVISION_2ND DIVISION': 17, 'ACTIVITY_DIVISION_3RD DIVISION': 14, 'ACTIVITY_DIVISION_4TH DIVISION': 18, 'ACTIVITY_DIVISION_5TH DIVISION': 16, 'ACTIVITY_DIVISION_6TH DIVISION': 23, 'ACTIVITY_DIVISION_7TH DIVISION': 24, 'ACTIVITY_DIVISION_8TH DIVISION': 19, 'ACTIVITY_DIVISION_9TH DIVISION': 1, 'ACTIVITY_DIVISION_NON LMPD': 8}\n"
     ]
    }
   ],
   "source": [
    "#Recursive Feature Elimination \n",
    "from sklearn import datasets\n",
    "from sklearn.feature_selection import RFE\n",
    "from sklearn.linear_model import LogisticRegression\n",
    "\n",
    "model = LogisticRegression(solver='liblinear')\n",
    "# create the RFE model; Target Variable Y\n",
    "rfe = RFE(model, 1)\n",
    "rfe = rfe.fit(X1, y)\n",
    "# summarize the selection of the attributes\n",
    "print('Model with the best', 1, 'features')\n",
    "print(dict(zip(X1.columns, rfe.ranking_)))"
   ]
  },
  {
   "cell_type": "markdown",
   "metadata": {},
   "source": [
    "# DecisionTreeClassifier"
   ]
  },
  {
   "cell_type": "code",
   "execution_count": 17,
   "metadata": {},
   "outputs": [
    {
     "name": "stdout",
     "output_type": "stream",
     "text": [
      "Accuracy: 0.8027674218525953\n",
      "F1_Score: 0.8099089848010717\n",
      "AUC: 0.7873990376052049\n"
     ]
    }
   ],
   "source": [
    "# Import Decision Tree Classifier  \n",
    "from sklearn.tree import DecisionTreeClassifier\n",
    "\n",
    "# Create Decision Tree Classifier Object \n",
    "clf = DecisionTreeClassifier()\n",
    "clf = clf.fit(X_train_resample, y_train_resample)\n",
    "\n",
    "# Predict the response for test dataset \n",
    "y_pred = clf.predict(X_test)\n",
    "\n",
    "# Model Accuracy \n",
    "print(\"Accuracy:\",metrics.accuracy_score(y_test, y_pred))\n",
    "print(\"F1_Score:\",f1_score(y_test, y_pred, average='weighted'))\n",
    "print(\"AUC:\",roc_auc_score(y_test, y_pred))"
   ]
  },
  {
   "cell_type": "markdown",
   "metadata": {},
   "source": [
    "# KNeighborsClassifier"
   ]
  },
  {
   "cell_type": "code",
   "execution_count": 18,
   "metadata": {},
   "outputs": [],
   "source": [
    "from sklearn.neighbors import KNeighborsClassifier\n",
    "kneigh = KNeighborsClassifier()\n",
    "kneigh = kneigh.fit(X_train_resample, y_train_resample)\n",
    "y_pred = kneigh.predict(X_test)"
   ]
  },
  {
   "cell_type": "code",
   "execution_count": 19,
   "metadata": {},
   "outputs": [
    {
     "name": "stdout",
     "output_type": "stream",
     "text": [
      "Accuracy: 0.8177158015486091\n",
      "F1_Score: 0.819583888734245\n",
      "AUC: 0.7717258283887153\n"
     ]
    }
   ],
   "source": [
    "# Model Accuracy\n",
    "print(\"Accuracy:\",metrics.accuracy_score(y_test, y_pred))\n",
    "print(\"F1_Score:\",f1_score(y_test, y_pred, average='weighted'))\n",
    "print(\"AUC:\",roc_auc_score(y_test, y_pred))"
   ]
  },
  {
   "cell_type": "markdown",
   "metadata": {},
   "source": [
    "# AdaBoostClassifier"
   ]
  },
  {
   "cell_type": "code",
   "execution_count": 20,
   "metadata": {},
   "outputs": [],
   "source": [
    "from sklearn.ensemble import AdaBoostClassifier\n",
    "ADA = AdaBoostClassifier(n_estimators=70, random_state=2019)\n",
    "ADA = ADA.fit(X_train_resample, y_train_resample)\n",
    "y_pred = ADA.predict(X_test)"
   ]
  },
  {
   "cell_type": "code",
   "execution_count": 21,
   "metadata": {},
   "outputs": [
    {
     "name": "stdout",
     "output_type": "stream",
     "text": [
      "Accuracy: 0.8189704617149413\n",
      "F1_Score: 0.8234976897041176\n",
      "AUC: 0.7916432692078437\n"
     ]
    }
   ],
   "source": [
    "# Model Accuracy\n",
    "print(\"Accuracy:\",metrics.accuracy_score(y_test, y_pred))\n",
    "print(\"F1_Score:\",f1_score(y_test, y_pred, average='weighted'))\n",
    "print(\"AUC:\",roc_auc_score(y_test, y_pred))"
   ]
  },
  {
   "cell_type": "markdown",
   "metadata": {},
   "source": [
    "# Cross Validation  "
   ]
  },
  {
   "cell_type": "code",
   "execution_count": 22,
   "metadata": {},
   "outputs": [],
   "source": [
    "from imblearn.over_sampling import RandomOverSampler\n",
    "ros = RandomOverSampler(random_state=2019)\n",
    "X_resample, y_resample = ros.fit_resample(X, y)"
   ]
  },
  {
   "cell_type": "code",
   "execution_count": null,
   "metadata": {},
   "outputs": [
    {
     "name": "stdout",
     "output_type": "stream",
     "text": [
      "Model:LogisticRegression, Score: AUC=0.84964, var=0.00001\n",
      "Model:AdaClassifier, Score: AUC=0.84890, var=0.00001\n",
      "Model:LogisticRegression, Score: F1=0.80259, var=0.00001\n"
     ]
    }
   ],
   "source": [
    "# cross_valid_ex.py\n",
    "\n",
    "import numpy as np\n",
    "import matplotlib.pyplot as plt\n",
    "from sklearn.model_selection import cross_val_score\n",
    "from sklearn.model_selection import StratifiedKFold\n",
    "\n",
    "from sklearn.linear_model import LogisticRegression\n",
    "from sklearn.neighbors import KNeighborsClassifier\n",
    "from sklearn.svm import SVC\n",
    "from sklearn.tree import DecisionTreeClassifier\n",
    "from sklearn.ensemble import AdaBoostClassifier\n",
    "from sklearn.ensemble import RandomForestClassifier\n",
    "\n",
    "\n",
    "features, targets = X_resample, y_resample\n",
    "\n",
    "models = []\n",
    "models.append(('LogisticRegression', LogisticRegression(solver='liblinear')))\n",
    "#models.append(('KNeighborsClassifier', KNeighborsClassifier()))\n",
    "#models.append(('SVC', SVC(kernel='rbf', gamma='auto')))\n",
    "#models.append(('DecisionTreeClassifier', DecisionTreeClassifier()))\n",
    "models.append(('AdaClassifier', AdaBoostClassifier()))\n",
    "#models.append(('RandomForest', RandomForestClassifier(n_estimators=100)))\n",
    "\n",
    "\n",
    "# KFold with 'stratify' option\n",
    "cv = StratifiedKFold(n_splits=10, shuffle=True, random_state=2019)\n",
    "for name, model in models:\n",
    "    score = cross_val_score(model, features, targets, cv=cv, scoring='roc_auc')\n",
    "    print(\"Model:{0}, Score: AUC={1:0.5f}, var={2:0.5f}\".format(\n",
    "        name,\n",
    "        score.mean(),\n",
    "        score.var()\n",
    "        )\n",
    "    )\n",
    "cv1 = StratifiedKFold(n_splits=10, shuffle=True, random_state=2019)\n",
    "for name, model in models:\n",
    "    score = cross_val_score(model, features, targets, cv=cv1, scoring='f1')\n",
    "    print(\"Model:{0}, Score: F1={1:0.5f}, var={2:0.5f}\".format(\n",
    "        name,\n",
    "        score.mean(),\n",
    "        score.var()\n",
    "        )\n",
    "    )"
   ]
  },
  {
   "cell_type": "code",
   "execution_count": null,
   "metadata": {},
   "outputs": [],
   "source": []
  },
  {
   "cell_type": "code",
   "execution_count": null,
   "metadata": {},
   "outputs": [],
   "source": []
  },
  {
   "cell_type": "code",
   "execution_count": null,
   "metadata": {},
   "outputs": [],
   "source": []
  }
 ],
 "metadata": {
  "kernelspec": {
   "display_name": "Python 3",
   "language": "python",
   "name": "python3"
  },
  "language_info": {
   "codemirror_mode": {
    "name": "ipython",
    "version": 3
   },
   "file_extension": ".py",
   "mimetype": "text/x-python",
   "name": "python",
   "nbconvert_exporter": "python",
   "pygments_lexer": "ipython3",
   "version": "3.6.7"
  }
 },
 "nbformat": 4,
 "nbformat_minor": 2
}
